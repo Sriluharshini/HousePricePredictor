{
 "cells": [
  {
   "cell_type": "code",
   "execution_count": 1,
   "metadata": {},
   "outputs": [],
   "source": [
    "import numpy as np\n",
    "import pandas as pd\n",
    "import pickle\n",
    "\n",
    "import matplotlib.pyplot as plt\n",
    "import seaborn as sns\n",
    "\n",
    "from sklearn.model_selection import train_test_split as tts\n",
    "from sklearn.model_selection import RandomizedSearchCV\n",
    "from sklearn.ensemble import RandomForestRegressor\n",
    "import xgboost\n",
    "\n",
    "from sklearn.metrics import mean_squared_error\n",
    "from math import sqrt\n",
    "from sklearn import metrics"
   ]
  },
  {
   "cell_type": "markdown",
   "metadata": {},
   "source": [
    "## EDA (Exploratory Data Analysis)"
   ]
  },
  {
   "cell_type": "code",
   "execution_count": 2,
   "metadata": {},
   "outputs": [],
   "source": [
    "df=pd.read_csv('train.csv')"
   ]
  },
  {
   "cell_type": "code",
   "execution_count": 3,
   "metadata": {},
   "outputs": [
    {
     "data": {
      "text/html": [
       "<div>\n",
       "<style scoped>\n",
       "    .dataframe tbody tr th:only-of-type {\n",
       "        vertical-align: middle;\n",
       "    }\n",
       "\n",
       "    .dataframe tbody tr th {\n",
       "        vertical-align: top;\n",
       "    }\n",
       "\n",
       "    .dataframe thead th {\n",
       "        text-align: right;\n",
       "    }\n",
       "</style>\n",
       "<table border=\"1\" class=\"dataframe\">\n",
       "  <thead>\n",
       "    <tr style=\"text-align: right;\">\n",
       "      <th></th>\n",
       "      <th>Id</th>\n",
       "      <th>MSSubClass</th>\n",
       "      <th>MSZoning</th>\n",
       "      <th>LotFrontage</th>\n",
       "      <th>LotArea</th>\n",
       "      <th>Street</th>\n",
       "      <th>Alley</th>\n",
       "      <th>LotShape</th>\n",
       "      <th>LandContour</th>\n",
       "      <th>Utilities</th>\n",
       "      <th>...</th>\n",
       "      <th>PoolArea</th>\n",
       "      <th>PoolQC</th>\n",
       "      <th>Fence</th>\n",
       "      <th>MiscFeature</th>\n",
       "      <th>MiscVal</th>\n",
       "      <th>MoSold</th>\n",
       "      <th>YrSold</th>\n",
       "      <th>SaleType</th>\n",
       "      <th>SaleCondition</th>\n",
       "      <th>SalePrice</th>\n",
       "    </tr>\n",
       "  </thead>\n",
       "  <tbody>\n",
       "    <tr>\n",
       "      <th>0</th>\n",
       "      <td>1</td>\n",
       "      <td>60</td>\n",
       "      <td>RL</td>\n",
       "      <td>65.0</td>\n",
       "      <td>8450</td>\n",
       "      <td>Pave</td>\n",
       "      <td>NaN</td>\n",
       "      <td>Reg</td>\n",
       "      <td>Lvl</td>\n",
       "      <td>AllPub</td>\n",
       "      <td>...</td>\n",
       "      <td>0</td>\n",
       "      <td>NaN</td>\n",
       "      <td>NaN</td>\n",
       "      <td>NaN</td>\n",
       "      <td>0</td>\n",
       "      <td>2</td>\n",
       "      <td>2008</td>\n",
       "      <td>WD</td>\n",
       "      <td>Normal</td>\n",
       "      <td>208500</td>\n",
       "    </tr>\n",
       "    <tr>\n",
       "      <th>1</th>\n",
       "      <td>2</td>\n",
       "      <td>20</td>\n",
       "      <td>RL</td>\n",
       "      <td>80.0</td>\n",
       "      <td>9600</td>\n",
       "      <td>Pave</td>\n",
       "      <td>NaN</td>\n",
       "      <td>Reg</td>\n",
       "      <td>Lvl</td>\n",
       "      <td>AllPub</td>\n",
       "      <td>...</td>\n",
       "      <td>0</td>\n",
       "      <td>NaN</td>\n",
       "      <td>NaN</td>\n",
       "      <td>NaN</td>\n",
       "      <td>0</td>\n",
       "      <td>5</td>\n",
       "      <td>2007</td>\n",
       "      <td>WD</td>\n",
       "      <td>Normal</td>\n",
       "      <td>181500</td>\n",
       "    </tr>\n",
       "    <tr>\n",
       "      <th>2</th>\n",
       "      <td>3</td>\n",
       "      <td>60</td>\n",
       "      <td>RL</td>\n",
       "      <td>68.0</td>\n",
       "      <td>11250</td>\n",
       "      <td>Pave</td>\n",
       "      <td>NaN</td>\n",
       "      <td>IR1</td>\n",
       "      <td>Lvl</td>\n",
       "      <td>AllPub</td>\n",
       "      <td>...</td>\n",
       "      <td>0</td>\n",
       "      <td>NaN</td>\n",
       "      <td>NaN</td>\n",
       "      <td>NaN</td>\n",
       "      <td>0</td>\n",
       "      <td>9</td>\n",
       "      <td>2008</td>\n",
       "      <td>WD</td>\n",
       "      <td>Normal</td>\n",
       "      <td>223500</td>\n",
       "    </tr>\n",
       "    <tr>\n",
       "      <th>3</th>\n",
       "      <td>4</td>\n",
       "      <td>70</td>\n",
       "      <td>RL</td>\n",
       "      <td>60.0</td>\n",
       "      <td>9550</td>\n",
       "      <td>Pave</td>\n",
       "      <td>NaN</td>\n",
       "      <td>IR1</td>\n",
       "      <td>Lvl</td>\n",
       "      <td>AllPub</td>\n",
       "      <td>...</td>\n",
       "      <td>0</td>\n",
       "      <td>NaN</td>\n",
       "      <td>NaN</td>\n",
       "      <td>NaN</td>\n",
       "      <td>0</td>\n",
       "      <td>2</td>\n",
       "      <td>2006</td>\n",
       "      <td>WD</td>\n",
       "      <td>Abnorml</td>\n",
       "      <td>140000</td>\n",
       "    </tr>\n",
       "    <tr>\n",
       "      <th>4</th>\n",
       "      <td>5</td>\n",
       "      <td>60</td>\n",
       "      <td>RL</td>\n",
       "      <td>84.0</td>\n",
       "      <td>14260</td>\n",
       "      <td>Pave</td>\n",
       "      <td>NaN</td>\n",
       "      <td>IR1</td>\n",
       "      <td>Lvl</td>\n",
       "      <td>AllPub</td>\n",
       "      <td>...</td>\n",
       "      <td>0</td>\n",
       "      <td>NaN</td>\n",
       "      <td>NaN</td>\n",
       "      <td>NaN</td>\n",
       "      <td>0</td>\n",
       "      <td>12</td>\n",
       "      <td>2008</td>\n",
       "      <td>WD</td>\n",
       "      <td>Normal</td>\n",
       "      <td>250000</td>\n",
       "    </tr>\n",
       "  </tbody>\n",
       "</table>\n",
       "<p>5 rows × 81 columns</p>\n",
       "</div>"
      ],
      "text/plain": [
       "   Id  MSSubClass MSZoning  LotFrontage  LotArea Street Alley LotShape  \\\n",
       "0   1          60       RL         65.0     8450   Pave   NaN      Reg   \n",
       "1   2          20       RL         80.0     9600   Pave   NaN      Reg   \n",
       "2   3          60       RL         68.0    11250   Pave   NaN      IR1   \n",
       "3   4          70       RL         60.0     9550   Pave   NaN      IR1   \n",
       "4   5          60       RL         84.0    14260   Pave   NaN      IR1   \n",
       "\n",
       "  LandContour Utilities  ... PoolArea PoolQC Fence MiscFeature MiscVal MoSold  \\\n",
       "0         Lvl    AllPub  ...        0    NaN   NaN         NaN       0      2   \n",
       "1         Lvl    AllPub  ...        0    NaN   NaN         NaN       0      5   \n",
       "2         Lvl    AllPub  ...        0    NaN   NaN         NaN       0      9   \n",
       "3         Lvl    AllPub  ...        0    NaN   NaN         NaN       0      2   \n",
       "4         Lvl    AllPub  ...        0    NaN   NaN         NaN       0     12   \n",
       "\n",
       "  YrSold  SaleType  SaleCondition  SalePrice  \n",
       "0   2008        WD         Normal     208500  \n",
       "1   2007        WD         Normal     181500  \n",
       "2   2008        WD         Normal     223500  \n",
       "3   2006        WD        Abnorml     140000  \n",
       "4   2008        WD         Normal     250000  \n",
       "\n",
       "[5 rows x 81 columns]"
      ]
     },
     "execution_count": 3,
     "metadata": {},
     "output_type": "execute_result"
    }
   ],
   "source": [
    "df.head()"
   ]
  },
  {
   "cell_type": "code",
   "execution_count": 4,
   "metadata": {},
   "outputs": [
    {
     "data": {
      "text/plain": [
       "Id                 0\n",
       "MSSubClass         0\n",
       "MSZoning           0\n",
       "LotFrontage      259\n",
       "LotArea            0\n",
       "                ... \n",
       "MoSold             0\n",
       "YrSold             0\n",
       "SaleType           0\n",
       "SaleCondition      0\n",
       "SalePrice          0\n",
       "Length: 81, dtype: int64"
      ]
     },
     "execution_count": 4,
     "metadata": {},
     "output_type": "execute_result"
    }
   ],
   "source": [
    "df.isnull().sum()"
   ]
  },
  {
   "cell_type": "code",
   "execution_count": 5,
   "metadata": {},
   "outputs": [
    {
     "data": {
      "text/plain": [
       "RL         1151\n",
       "RM          218\n",
       "FV           65\n",
       "RH           16\n",
       "C (all)      10\n",
       "Name: MSZoning, dtype: int64"
      ]
     },
     "execution_count": 5,
     "metadata": {},
     "output_type": "execute_result"
    }
   ],
   "source": [
    "df['MSZoning'].value_counts()"
   ]
  },
  {
   "cell_type": "code",
   "execution_count": 6,
   "metadata": {},
   "outputs": [
    {
     "data": {
      "text/plain": [
       "<AxesSubplot:>"
      ]
     },
     "execution_count": 6,
     "metadata": {},
     "output_type": "execute_result"
    },
    {
     "data": {
      "image/png": "[encoded data removed]",
      "text/plain": [
       "<Figure size 432x288 with 1 Axes>"
      ]
     },
     "metadata": {
      "needs_background": "light"
     },
     "output_type": "display_data"
    }
   ],
   "source": [
    "# Plotting heat map for understanding null values\n",
    "sns.heatmap(df.isnull(),yticklabels=False,cbar=False)"
   ]
  },
  {
   "cell_type": "code",
   "execution_count": 7,
   "metadata": {},
   "outputs": [
    {
     "data": {
      "text/plain": [
       "(1460, 81)"
      ]
     },
     "execution_count": 7,
     "metadata": {},
     "output_type": "execute_result"
    }
   ],
   "source": [
    "df.shape"
   ]
  },
  {
   "cell_type": "code",
   "execution_count": 8,
   "metadata": {},
   "outputs": [
    {
     "name": "stdout",
     "output_type": "stream",
     "text": [
      "<class 'pandas.core.frame.DataFrame'>\n",
      "RangeIndex: 1460 entries, 0 to 1459\n",
      "Data columns (total 81 columns):\n",
      " #   Column         Non-Null Count  Dtype  \n",
      "---  ------         --------------  -----  \n",
      " 0   Id             1460 non-null   int64  \n",
      " 1   MSSubClass     1460 non-null   int64  \n",
      " 2   MSZoning       1460 non-null   object \n",
      " 3   LotFrontage    1201 non-null   float64\n",
      " 4   LotArea        1460 non-null   int64  \n",
      " 5   Street         1460 non-null   object \n",
      " 6   Alley          91 non-null     object \n",
      " 7   LotShape       1460 non-null   object \n",
      " 8   LandContour    1460 non-null   object \n",
      " 9   Utilities      1460 non-null   object \n",
      " 10  LotConfig      1460 non-null   object \n",
      " 11  LandSlope      1460 non-null   object \n",
      " 12  Neighborhood   1460 non-null   object \n",
      " 13  Condition1     1460 non-null   object \n",
      " 14  Condition2     1460 non-null   object \n",
      " 15  BldgType       1460 non-null   object \n",
      " 16  HouseStyle     1460 non-null   object \n",
      " 17  OverallQual    1460 non-null   int64  \n",
      " 18  OverallCond    1460 non-null   int64  \n",
      " 19  YearBuilt      1460 non-null   int64  \n",
      " 20  YearRemodAdd   1460 non-null   int64  \n",
      " 21  RoofStyle      1460 non-null   object \n",
      " 22  RoofMatl       1460 non-null   object \n",
      " 23  Exterior1st    1460 non-null   object \n",
      " 24  Exterior2nd    1460 non-null   object \n",
      " 25  MasVnrType     1452 non-null   object \n",
      " 26  MasVnrArea     1452 non-null   float64\n",
      " 27  ExterQual      1460 non-null   object \n",
      " 28  ExterCond      1460 non-null   object \n",
      " 29  Foundation     1460 non-null   object \n",
      " 30  BsmtQual       1423 non-null   object \n",
      " 31  BsmtCond       1423 non-null   object \n",
      " 32  BsmtExposure   1422 non-null   object \n",
      " 33  BsmtFinType1   1423 non-null   object \n",
      " 34  BsmtFinSF1     1460 non-null   int64  \n",
      " 35  BsmtFinType2   1422 non-null   object \n",
      " 36  BsmtFinSF2     1460 non-null   int64  \n",
      " 37  BsmtUnfSF      1460 non-null   int64  \n",
      " 38  TotalBsmtSF    1460 non-null   int64  \n",
      " 39  Heating        1460 non-null   object \n",
      " 40  HeatingQC      1460 non-null   object \n",
      " 41  CentralAir     1460 non-null   object \n",
      " 42  Electrical     1459 non-null   object \n",
      " 43  1stFlrSF       1460 non-null   int64  \n",
      " 44  2ndFlrSF       1460 non-null   int64  \n",
      " 45  LowQualFinSF   1460 non-null   int64  \n",
      " 46  GrLivArea      1460 non-null   int64  \n",
      " 47  BsmtFullBath   1460 non-null   int64  \n",
      " 48  BsmtHalfBath   1460 non-null   int64  \n",
      " 49  FullBath       1460 non-null   int64  \n",
      " 50  HalfBath       1460 non-null   int64  \n",
      " 51  BedroomAbvGr   1460 non-null   int64  \n",
      " 52  KitchenAbvGr   1460 non-null   int64  \n",
      " 53  KitchenQual    1460 non-null   object \n",
      " 54  TotRmsAbvGrd   1460 non-null   int64  \n",
      " 55  Functional     1460 non-null   object \n",
      " 56  Fireplaces     1460 non-null   int64  \n",
      " 57  FireplaceQu    770 non-null    object \n",
      " 58  GarageType     1379 non-null   object \n",
      " 59  GarageYrBlt    1379 non-null   float64\n",
      " 60  GarageFinish   1379 non-null   object \n",
      " 61  GarageCars     1460 non-null   int64  \n",
      " 62  GarageArea     1460 non-null   int64  \n",
      " 63  GarageQual     1379 non-null   object \n",
      " 64  GarageCond     1379 non-null   object \n",
      " 65  PavedDrive     1460 non-null   object \n",
      " 66  WoodDeckSF     1460 non-null   int64  \n",
      " 67  OpenPorchSF    1460 non-null   int64  \n",
      " 68  EnclosedPorch  1460 non-null   int64  \n",
      " 69  3SsnPorch      1460 non-null   int64  \n",
      " 70  ScreenPorch    1460 non-null   int64  \n",
      " 71  PoolArea       1460 non-null   int64  \n",
      " 72  PoolQC         7 non-null      object \n",
      " 73  Fence          281 non-null    object \n",
      " 74  MiscFeature    54 non-null     object \n",
      " 75  MiscVal        1460 non-null   int64  \n",
      " 76  MoSold         1460 non-null   int64  \n",
      " 77  YrSold         1460 non-null   int64  \n",
      " 78  SaleType       1460 non-null   object \n",
      " 79  SaleCondition  1460 non-null   object \n",
      " 80  SalePrice      1460 non-null   int64  \n",
      "dtypes: float64(3), int64(35), object(43)\n",
      "memory usage: 924.0+ KB\n"
     ]
    }
   ],
   "source": [
    "df.info()"
   ]
  },
  {
   "cell_type": "markdown",
   "metadata": {},
   "source": [
    "### Data cleaning"
   ]
  },
  {
   "cell_type": "code",
   "execution_count": 9,
   "metadata": {},
   "outputs": [],
   "source": [
    "## Fill Missing Values\n",
    "\n",
    "df['LotFrontage']=df['LotFrontage'].fillna(df['LotFrontage'].mean())\n",
    "\n",
    "df.drop(['Alley'],axis=1,inplace=True)\n",
    "\n",
    "df['BsmtCond']=df['BsmtCond'].fillna(df['BsmtCond'].mode()[0])\n",
    "df['BsmtQual']=df['BsmtQual'].fillna(df['BsmtQual'].mode()[0])\n",
    "\n",
    "df['FireplaceQu']=df['FireplaceQu'].fillna(df['FireplaceQu'].mode()[0])\n",
    "df['GarageType']=df['GarageType'].fillna(df['GarageType'].mode()[0])\n",
    "\n",
    "df.drop(['GarageYrBlt'],axis=1,inplace=True)\n",
    "\n",
    "df['GarageFinish']=df['GarageFinish'].fillna(df['GarageFinish'].mode()[0])\n",
    "df['GarageQual']=df['GarageQual'].fillna(df['GarageQual'].mode()[0])\n",
    "df['GarageCond']=df['GarageCond'].fillna(df['GarageCond'].mode()[0])\n",
    "\n",
    "df.drop(['PoolQC','Fence','MiscFeature'],axis=1,inplace=True)\n",
    "\n",
    "df.drop(['Id'],axis=1,inplace=True)"
   ]
  },
  {
   "cell_type": "code",
   "execution_count": 10,
   "metadata": {},
   "outputs": [
    {
     "data": {
      "text/plain": [
       "MSSubClass       0\n",
       "MSZoning         0\n",
       "LotFrontage      0\n",
       "LotArea          0\n",
       "Street           0\n",
       "                ..\n",
       "MoSold           0\n",
       "YrSold           0\n",
       "SaleType         0\n",
       "SaleCondition    0\n",
       "SalePrice        0\n",
       "Length: 75, dtype: int64"
      ]
     },
     "execution_count": 10,
     "metadata": {},
     "output_type": "execute_result"
    }
   ],
   "source": [
    "df.isnull().sum()"
   ]
  },
  {
   "cell_type": "code",
   "execution_count": 11,
   "metadata": {},
   "outputs": [],
   "source": [
    "df['MasVnrType']=df['MasVnrType'].fillna(df['MasVnrType'].mode()[0])\n",
    "df['MasVnrArea']=df['MasVnrArea'].fillna(df['MasVnrArea'].mode()[0])"
   ]
  },
  {
   "cell_type": "code",
   "execution_count": 12,
   "metadata": {},
   "outputs": [
    {
     "data": {
      "text/plain": [
       "<AxesSubplot:>"
      ]
     },
     "execution_count": 12,
     "metadata": {},
     "output_type": "execute_result"
    },
    {
     "data": {
      "image/png": "[encoded data removed]",
      "text/plain": [
       "<Figure size 432x288 with 1 Axes>"
      ]
     },
     "metadata": {
      "needs_background": "light"
     },
     "output_type": "display_data"
    }
   ],
   "source": [
    "sns.heatmap(df.isnull(),yticklabels=False,cbar=False,cmap='coolwarm')"
   ]
  },
  {
   "cell_type": "code",
   "execution_count": 13,
   "metadata": {},
   "outputs": [],
   "source": [
    "df['BsmtExposure']=df['BsmtExposure'].fillna(df['BsmtExposure'].mode()[0])"
   ]
  },
  {
   "cell_type": "code",
   "execution_count": 14,
   "metadata": {},
   "outputs": [
    {
     "data": {
      "text/plain": [
       "<AxesSubplot:>"
      ]
     },
     "execution_count": 14,
     "metadata": {},
     "output_type": "execute_result"
    },
    {
     "data": {
      "image/png": "[encoded data removed]",
      "text/plain": [
       "<Figure size 432x288 with 1 Axes>"
      ]
     },
     "metadata": {
      "needs_background": "light"
     },
     "output_type": "display_data"
    }
   ],
   "source": [
    "sns.heatmap(df.isnull(),yticklabels=False,cbar=False,cmap='YlGnBu')"
   ]
  },
  {
   "cell_type": "code",
   "execution_count": 15,
   "metadata": {},
   "outputs": [],
   "source": [
    "df['BsmtFinType2']=df['BsmtFinType2'].fillna(df['BsmtFinType2'].mode()[0])"
   ]
  },
  {
   "cell_type": "code",
   "execution_count": 16,
   "metadata": {},
   "outputs": [],
   "source": [
    "df.dropna(inplace=True)"
   ]
  },
  {
   "cell_type": "code",
   "execution_count": 17,
   "metadata": {},
   "outputs": [
    {
     "data": {
      "text/plain": [
       "(1422, 75)"
      ]
     },
     "execution_count": 17,
     "metadata": {},
     "output_type": "execute_result"
    }
   ],
   "source": [
    "df.shape"
   ]
  },
  {
   "cell_type": "code",
   "execution_count": 18,
   "metadata": {},
   "outputs": [
    {
     "data": {
      "text/html": [
       "<div>\n",
       "<style scoped>\n",
       "    .dataframe tbody tr th:only-of-type {\n",
       "        vertical-align: middle;\n",
       "    }\n",
       "\n",
       "    .dataframe tbody tr th {\n",
       "        vertical-align: top;\n",
       "    }\n",
       "\n",
       "    .dataframe thead th {\n",
       "        text-align: right;\n",
       "    }\n",
       "</style>\n",
       "<table border=\"1\" class=\"dataframe\">\n",
       "  <thead>\n",
       "    <tr style=\"text-align: right;\">\n",
       "      <th></th>\n",
       "      <th>MSSubClass</th>\n",
       "      <th>MSZoning</th>\n",
       "      <th>LotFrontage</th>\n",
       "      <th>LotArea</th>\n",
       "      <th>Street</th>\n",
       "      <th>LotShape</th>\n",
       "      <th>LandContour</th>\n",
       "      <th>Utilities</th>\n",
       "      <th>LotConfig</th>\n",
       "      <th>LandSlope</th>\n",
       "      <th>...</th>\n",
       "      <th>EnclosedPorch</th>\n",
       "      <th>3SsnPorch</th>\n",
       "      <th>ScreenPorch</th>\n",
       "      <th>PoolArea</th>\n",
       "      <th>MiscVal</th>\n",
       "      <th>MoSold</th>\n",
       "      <th>YrSold</th>\n",
       "      <th>SaleType</th>\n",
       "      <th>SaleCondition</th>\n",
       "      <th>SalePrice</th>\n",
       "    </tr>\n",
       "  </thead>\n",
       "  <tbody>\n",
       "    <tr>\n",
       "      <th>0</th>\n",
       "      <td>60</td>\n",
       "      <td>RL</td>\n",
       "      <td>65.0</td>\n",
       "      <td>8450</td>\n",
       "      <td>Pave</td>\n",
       "      <td>Reg</td>\n",
       "      <td>Lvl</td>\n",
       "      <td>AllPub</td>\n",
       "      <td>Inside</td>\n",
       "      <td>Gtl</td>\n",
       "      <td>...</td>\n",
       "      <td>0</td>\n",
       "      <td>0</td>\n",
       "      <td>0</td>\n",
       "      <td>0</td>\n",
       "      <td>0</td>\n",
       "      <td>2</td>\n",
       "      <td>2008</td>\n",
       "      <td>WD</td>\n",
       "      <td>Normal</td>\n",
       "      <td>208500</td>\n",
       "    </tr>\n",
       "    <tr>\n",
       "      <th>1</th>\n",
       "      <td>20</td>\n",
       "      <td>RL</td>\n",
       "      <td>80.0</td>\n",
       "      <td>9600</td>\n",
       "      <td>Pave</td>\n",
       "      <td>Reg</td>\n",
       "      <td>Lvl</td>\n",
       "      <td>AllPub</td>\n",
       "      <td>FR2</td>\n",
       "      <td>Gtl</td>\n",
       "      <td>...</td>\n",
       "      <td>0</td>\n",
       "      <td>0</td>\n",
       "      <td>0</td>\n",
       "      <td>0</td>\n",
       "      <td>0</td>\n",
       "      <td>5</td>\n",
       "      <td>2007</td>\n",
       "      <td>WD</td>\n",
       "      <td>Normal</td>\n",
       "      <td>181500</td>\n",
       "    </tr>\n",
       "    <tr>\n",
       "      <th>2</th>\n",
       "      <td>60</td>\n",
       "      <td>RL</td>\n",
       "      <td>68.0</td>\n",
       "      <td>11250</td>\n",
       "      <td>Pave</td>\n",
       "      <td>IR1</td>\n",
       "      <td>Lvl</td>\n",
       "      <td>AllPub</td>\n",
       "      <td>Inside</td>\n",
       "      <td>Gtl</td>\n",
       "      <td>...</td>\n",
       "      <td>0</td>\n",
       "      <td>0</td>\n",
       "      <td>0</td>\n",
       "      <td>0</td>\n",
       "      <td>0</td>\n",
       "      <td>9</td>\n",
       "      <td>2008</td>\n",
       "      <td>WD</td>\n",
       "      <td>Normal</td>\n",
       "      <td>223500</td>\n",
       "    </tr>\n",
       "    <tr>\n",
       "      <th>3</th>\n",
       "      <td>70</td>\n",
       "      <td>RL</td>\n",
       "      <td>60.0</td>\n",
       "      <td>9550</td>\n",
       "      <td>Pave</td>\n",
       "      <td>IR1</td>\n",
       "      <td>Lvl</td>\n",
       "      <td>AllPub</td>\n",
       "      <td>Corner</td>\n",
       "      <td>Gtl</td>\n",
       "      <td>...</td>\n",
       "      <td>272</td>\n",
       "      <td>0</td>\n",
       "      <td>0</td>\n",
       "      <td>0</td>\n",
       "      <td>0</td>\n",
       "      <td>2</td>\n",
       "      <td>2006</td>\n",
       "      <td>WD</td>\n",
       "      <td>Abnorml</td>\n",
       "      <td>140000</td>\n",
       "    </tr>\n",
       "    <tr>\n",
       "      <th>4</th>\n",
       "      <td>60</td>\n",
       "      <td>RL</td>\n",
       "      <td>84.0</td>\n",
       "      <td>14260</td>\n",
       "      <td>Pave</td>\n",
       "      <td>IR1</td>\n",
       "      <td>Lvl</td>\n",
       "      <td>AllPub</td>\n",
       "      <td>FR2</td>\n",
       "      <td>Gtl</td>\n",
       "      <td>...</td>\n",
       "      <td>0</td>\n",
       "      <td>0</td>\n",
       "      <td>0</td>\n",
       "      <td>0</td>\n",
       "      <td>0</td>\n",
       "      <td>12</td>\n",
       "      <td>2008</td>\n",
       "      <td>WD</td>\n",
       "      <td>Normal</td>\n",
       "      <td>250000</td>\n",
       "    </tr>\n",
       "  </tbody>\n",
       "</table>\n",
       "<p>5 rows × 75 columns</p>\n",
       "</div>"
      ],
      "text/plain": [
       "   MSSubClass MSZoning  LotFrontage  LotArea Street LotShape LandContour  \\\n",
       "0          60       RL         65.0     8450   Pave      Reg         Lvl   \n",
       "1          20       RL         80.0     9600   Pave      Reg         Lvl   \n",
       "2          60       RL         68.0    11250   Pave      IR1         Lvl   \n",
       "3          70       RL         60.0     9550   Pave      IR1         Lvl   \n",
       "4          60       RL         84.0    14260   Pave      IR1         Lvl   \n",
       "\n",
       "  Utilities LotConfig LandSlope  ... EnclosedPorch 3SsnPorch ScreenPorch  \\\n",
       "0    AllPub    Inside       Gtl  ...             0         0           0   \n",
       "1    AllPub       FR2       Gtl  ...             0         0           0   \n",
       "2    AllPub    Inside       Gtl  ...             0         0           0   \n",
       "3    AllPub    Corner       Gtl  ...           272         0           0   \n",
       "4    AllPub       FR2       Gtl  ...             0         0           0   \n",
       "\n",
       "  PoolArea MiscVal  MoSold  YrSold  SaleType  SaleCondition SalePrice  \n",
       "0        0       0       2    2008        WD         Normal    208500  \n",
       "1        0       0       5    2007        WD         Normal    181500  \n",
       "2        0       0       9    2008        WD         Normal    223500  \n",
       "3        0       0       2    2006        WD        Abnorml    140000  \n",
       "4        0       0      12    2008        WD         Normal    250000  \n",
       "\n",
       "[5 rows x 75 columns]"
      ]
     },
     "execution_count": 18,
     "metadata": {},
     "output_type": "execute_result"
    }
   ],
   "source": [
    "df.head()"
   ]
  },
  {
   "cell_type": "markdown",
   "metadata": {},
   "source": [
    "### One hot encoding"
   ]
  },
  {
   "cell_type": "code",
   "execution_count": null,
   "metadata": {},
   "outputs": [],
   "source": []
  },
  {
   "cell_type": "code",
   "execution_count": 19,
   "metadata": {},
   "outputs": [
    {
     "data": {
      "text/plain": [
       "39"
      ]
     },
     "execution_count": 19,
     "metadata": {},
     "output_type": "execute_result"
    }
   ],
   "source": [
    "# HAndle Categorical Features \n",
    "\n",
    "columns=['MSZoning','Street','LotShape','LandContour','Utilities','LotConfig','LandSlope','Neighborhood',\n",
    "         'Condition2','BldgType','Condition1','HouseStyle','SaleType',\n",
    "        'SaleCondition','ExterCond',\n",
    "         'ExterQual','Foundation','BsmtQual','BsmtCond','BsmtExposure','BsmtFinType1','BsmtFinType2',\n",
    "        'RoofStyle','RoofMatl','Exterior1st','Exterior2nd','MasVnrType','Heating','HeatingQC',\n",
    "         'CentralAir',\n",
    "         'Electrical','KitchenQual','Functional',\n",
    "         'FireplaceQu','GarageType','GarageFinish','GarageQual','GarageCond','PavedDrive']\n",
    "len(columns)"
   ]
  },
  {
   "cell_type": "code",
   "execution_count": 20,
   "metadata": {},
   "outputs": [],
   "source": [
    "def category_onehot_multcols(multcolumns):\n",
    "    df_final=final_df\n",
    "    i=0\n",
    "    for fields in multcolumns:\n",
    "#         print(fields)\n",
    "        df1=pd.get_dummies(final_df[fields],drop_first=True)\n",
    "        \n",
    "        final_df.drop([fields],axis=1,inplace=True)\n",
    "        if i==0:\n",
    "            df_final=df1.copy()\n",
    "        else:\n",
    "            \n",
    "            df_final=pd.concat([df_final,df1],axis=1)\n",
    "        i=i+1\n",
    "       \n",
    "        \n",
    "    df_final=pd.concat([final_df,df_final],axis=1)\n",
    "        \n",
    "    return df_final"
   ]
  },
  {
   "cell_type": "code",
   "execution_count": 21,
   "metadata": {},
   "outputs": [],
   "source": [
    "final_df = df.copy()\n",
    "Y = df['SalePrice']\n",
    "X = df.drop(['SalePrice'], axis=1)"
   ]
  },
  {
   "cell_type": "code",
   "execution_count": 22,
   "metadata": {},
   "outputs": [],
   "source": [
    "X = category_onehot_multcols(columns)\n",
    "# final_df = X\n",
    "X=X.loc[:,~X.columns.duplicated()]"
   ]
  },
  {
   "cell_type": "markdown",
   "metadata": {},
   "source": [
    "### Train and Test sets"
   ]
  },
  {
   "cell_type": "markdown",
   "metadata": {},
   "source": [
    "TRAIN TEST SPLIT 70-30"
   ]
  },
  {
   "cell_type": "code",
   "execution_count": 23,
   "metadata": {},
   "outputs": [
    {
     "name": "stdout",
     "output_type": "stream",
     "text": [
      "(995, 173)\n",
      "(427, 173)\n",
      "(995,)\n",
      "(427,)\n"
     ]
    }
   ],
   "source": [
    "x_train, x_test, y_train, y_test = tts(X, Y, test_size = 0.3, random_state = 42)\n",
    "print(x_train.shape)\n",
    "print(x_test.shape)\n",
    "print(y_train.shape)\n",
    "print(y_test.shape)"
   ]
  },
  {
   "cell_type": "markdown",
   "metadata": {},
   "source": [
    "# GBDT"
   ]
  },
  {
   "cell_type": "code",
   "execution_count": 24,
   "metadata": {},
   "outputs": [
    {
     "data": {
      "text/plain": [
       "XGBRegressor(base_score=0.5, booster='gbtree', colsample_bylevel=1,\n",
       "             colsample_bynode=1, colsample_bytree=1, gamma=0, gpu_id=-1,\n",
       "             importance_type='gain', interaction_constraints='',\n",
       "             learning_rate=0.300000012, max_delta_step=0, max_depth=6,\n",
       "             min_child_weight=1, missing=nan, monotone_constraints='()',\n",
       "             n_estimators=100, n_jobs=8, num_parallel_tree=1, random_state=0,\n",
       "             reg_alpha=0, reg_lambda=1, scale_pos_weight=1, subsample=1,\n",
       "             tree_method='exact', validate_parameters=1, verbosity=None)"
      ]
     },
     "execution_count": 24,
     "metadata": {},
     "output_type": "execute_result"
    }
   ],
   "source": [
    "classifier=xgboost.XGBRegressor()\n",
    "classifier.fit(x_train,y_train)"
   ]
  },
  {
   "cell_type": "code",
   "execution_count": 25,
   "metadata": {},
   "outputs": [],
   "source": [
    "# Hyper Parameter Optimization\n",
    "booster=['gbtree','gblinear']\n",
    "base_score=[0.25,0.5,0.75,1]\n",
    "n_estimators = [100, 500, 900, 1100, 1500]\n",
    "max_depth = [2, 3, 5, 10, 15]\n",
    "booster=['gbtree','gblinear']\n",
    "learning_rate=[0.05,0.1,0.15,0.20]\n",
    "min_child_weight=[1,2,3,4]\n",
    "\n",
    "# Define the grid of hyperparameters to search\n",
    "hyperparameter_grid = {\n",
    "    'n_estimators': n_estimators,\n",
    "    'max_depth':max_depth,\n",
    "    'learning_rate':learning_rate,\n",
    "    'min_child_weight':min_child_weight,\n",
    "    'booster':booster,\n",
    "    'base_score':base_score\n",
    "    }\n",
    "\n",
    "# Set up the random search with 5-fold cross validation\n",
    "random_cv = RandomizedSearchCV(estimator=classifier,\n",
    "            param_distributions=hyperparameter_grid,\n",
    "            cv=5, n_iter=50,\n",
    "            scoring = 'neg_mean_absolute_error',n_jobs = 4,\n",
    "            verbose = 5, \n",
    "            return_train_score = True,\n",
    "            random_state=42)"
   ]
  },
  {
   "cell_type": "code",
   "execution_count": 26,
   "metadata": {},
   "outputs": [
    {
     "name": "stdout",
     "output_type": "stream",
     "text": [
      "Fitting 5 folds for each of 50 candidates, totalling 250 fits\n"
     ]
    },
    {
     "name": "stderr",
     "output_type": "stream",
     "text": [
      "[Parallel(n_jobs=4)]: Using backend LokyBackend with 4 concurrent workers.\n",
      "[Parallel(n_jobs=4)]: Done  10 tasks      | elapsed:   20.2s\n",
      "[Parallel(n_jobs=4)]: Done  64 tasks      | elapsed:  2.8min\n",
      "[Parallel(n_jobs=4)]: Done 154 tasks      | elapsed:  5.5min\n",
      "[Parallel(n_jobs=4)]: Done 250 out of 250 | elapsed:  8.3min finished\n"
     ]
    },
    {
     "name": "stdout",
     "output_type": "stream",
     "text": [
      "[18:20:03] WARNING: C:/Users/Administrator/workspace/xgboost-win64_release_1.3.0/src/learner.cc:541: \n",
      "Parameters: { colsample_bylevel, colsample_bynode, colsample_bytree, gamma, interaction_constraints, max_delta_step, max_depth, min_child_weight, monotone_constraints, num_parallel_tree, subsample, tree_method } might not be used.\n",
      "\n",
      "  This may not be accurate due to some parameters are only used in language bindings but\n",
      "  passed down to XGBoost core.  Or some parameters are not used but slip through this\n",
      "  verification. Please open an issue if you find above cases.\n",
      "\n",
      "\n"
     ]
    },
    {
     "data": {
      "text/plain": [
       "XGBRegressor(base_score=0.75, booster='gblinear', colsample_bylevel=1,\n",
       "             colsample_bynode=1, colsample_bytree=1, gamma=0, gpu_id=-1,\n",
       "             importance_type='gain', interaction_constraints='',\n",
       "             learning_rate=0.2, max_delta_step=0, max_depth=15,\n",
       "             min_child_weight=1, missing=nan, monotone_constraints='()',\n",
       "             n_estimators=1500, n_jobs=8, num_parallel_tree=1, random_state=0,\n",
       "             reg_alpha=0, reg_lambda=1, scale_pos_weight=1, subsample=1,\n",
       "             tree_method='exact', validate_parameters=1, verbosity=None)"
      ]
     },
     "execution_count": 26,
     "metadata": {},
     "output_type": "execute_result"
    }
   ],
   "source": [
    "random_cv.fit(x_train,y_train)\n",
    "random_cv.best_estimator_"
   ]
  },
  {
   "cell_type": "code",
   "execution_count": 27,
   "metadata": {},
   "outputs": [],
   "source": [
    "regressor_gbdt = xgboost.XGBRegressor(base_score=0.25, booster='gbtree', colsample_bylevel=1,\n",
    "       colsample_bytree=1, gamma=0, learning_rate=0.1, max_delta_step=0,\n",
    "       max_depth=2, min_child_weight=1, missing=1, n_estimators=900,\n",
    "       n_jobs=1, nthread=None, objective='reg:squarederror', random_state=0,\n",
    "       reg_alpha=0, reg_lambda=1, scale_pos_weight=1, seed=None, subsample=1)\n",
    "regressor_gbdt.fit(x_train,y_train)\n",
    "\n",
    "# Saving as pickle file\n",
    "filename = 'finalized_model.pk1'\n",
    "pickle.dump(regressor_gbdt, open(filename,'wb'))"
   ]
  },
  {
   "cell_type": "code",
   "execution_count": 28,
   "metadata": {},
   "outputs": [],
   "source": [
    "y_pred_gbdt = regressor_gbdt.predict(x_test)"
   ]
  },
  {
   "cell_type": "code",
   "execution_count": 29,
   "metadata": {},
   "outputs": [
    {
     "data": {
      "text/plain": [
       "array([184693.11 , 119041.68 , 136041.55 , 382490.84 , 161377.72 ,\n",
       "       118803.54 , 274432.84 , 143384.42 , 189753.47 , 160953.94 ,\n",
       "       385494.4  , 235714.52 , 309631.7  , 143037.6  , 224902.8  ,\n",
       "       148965.86 , 435516.62 , 185535.27 , 249561.11 ,  94762.59 ,\n",
       "       160201.38 , 165632.52 , 130687.94 , 128984.38 , 180311.88 ,\n",
       "       163991.94 , 184606.88 , 115779.18 , 213988.53 , 169640.   ,\n",
       "       140432.02 , 229443.48 , 155684.56 , 140457.92 , 136048.81 ,\n",
       "       309887.9  , 238958.5  , 154144.05 , 119859.56 , 250445.05 ,\n",
       "       108543.66 , 267659.75 ,  76355.234,  37933.938, 371789.94 ,\n",
       "       154610.44 , 124603.164, 192858.81 , 354366.3  , 155400.69 ,\n",
       "       173405.61 , 315867.56 , 184129.5  ,  66592.86 , 155792.9  ,\n",
       "       120125.734,  60202.184, 225899.44 ,  99959.99 , 135851.7  ,\n",
       "        87523.82 , 124771.766, 192864.08 , 250204.88 , 169420.3  ,\n",
       "       183912.94 , 192549.1  , 228159.94 , 180179.48 , 141160.03 ,\n",
       "       108612.67 , 112113.66 , 156634.47 , 131647.58 , 227386.84 ,\n",
       "       124860.86 , 175424.19 , 156594.   , 139972.27 , 212741.25 ,\n",
       "       373517.72 , 111373.45 , 197505.64 , 225110.06 , 154751.55 ,\n",
       "       743673.5  , 140386.69 , 187365.19 , 138553.44 , 179189.64 ,\n",
       "       127311.055, 114975.375, 319439.47 , 149166.52 , 198676.06 ,\n",
       "       138203.88 , 225624.23 , 163991.6  , 123698.336, 155378.11 ,\n",
       "       110105.37 ,  94882.914, 183594.03 , 214611.36 , 192719.2  ,\n",
       "       290783.2  , 226384.58 , 153611.5  , 287022.44 , 120169.46 ,\n",
       "       175689.95 , 185978.78 , 188039.39 , 104755.43 , 254888.52 ,\n",
       "       163992.   , 187889.39 , 143043.86 , 143885.39 , 179746.61 ,\n",
       "       194123.95 , 165003.22 ,  76158.89 , 170036.66 , 234807.56 ,\n",
       "       154425.78 , 204094.44 , 277177.28 , 428417.28 ,  86937.76 ,\n",
       "       115119.91 , 154057.83 , 409227.38 , 169553.55 , 148252.1  ,\n",
       "       161815.27 , 100306.49 , 316314.6  , 164385.83 , 115544.336,\n",
       "       131228.02 , 302308.78 , 206858.88 , 115118.58 , 315725.47 ,\n",
       "       242346.53 , 137036.11 ,  80738.586, 193171.8  , 110558.52 ,\n",
       "       159989.12 , 178769.52 , 174019.12 , 149035.58 , 430136.9  ,\n",
       "       392758.25 , 184043.67 , 316661.16 , 147672.   , 194385.56 ,\n",
       "       144279.52 , 186979.03 , 234576.02 , 260169.38 , 155618.47 ,\n",
       "       143533.61 , 100086.016, 163181.02 , 149171.48 , 194581.2  ,\n",
       "       173084.83 , 321045.06 , 118740.13 , 146939.64 , 163427.39 ,\n",
       "       161078.44 , 192503.55 , 131393.33 , 118646.77 , 212330.31 ,\n",
       "       187619.81 , 228252.53 , 164693.05 , 115588.49 , 144222.1  ,\n",
       "       104134.89 , 239741.84 , 140677.4  , 213675.   , 156117.14 ,\n",
       "       137288.1  , 213878.3  , 268961.66 , 154003.77 , 179352.44 ,\n",
       "       193105.52 , 205140.33 , 148688.42 , 123815.78 ,  78928.97 ,\n",
       "       135063.28 , 174758.72 , 170502.25 , 260321.92 , 155410.72 ,\n",
       "       335988.5  , 141410.94 , 124124.26 , 294923.25 ,  85426.05 ,\n",
       "       111248.875, 117774.07 , 148805.95 , 188516.7  , 128083.26 ,\n",
       "       235626.66 , 187237.31 , 140629.12 , 235941.53 , 119160.73 ,\n",
       "       175042.06 , 129360.09 , 236617.95 , 130877.6  , 164934.36 ,\n",
       "       268487.03 , 322026.38 , 225109.   , 268112.9  , 175800.69 ,\n",
       "       119893.8  , 179539.02 , 130037.61 ,  63663.734, 224290.4  ,\n",
       "       197810.22 , 120412.19 , 193269.89 , 253396.33 , 143745.86 ,\n",
       "       250797.84 ,  59991.72 , 184945.9  ,  91564.35 , 129153.18 ,\n",
       "       123961.87 , 140534.1  , 184606.48 , 288258.2  , 123623.78 ,\n",
       "       259137.34 , 157192.05 , 274719.38 , 156662.88 , 319689.9  ,\n",
       "       124600.89 , 205245.4  , 274665.97 , 154309.89 , 105818.13 ,\n",
       "       147738.12 , 289380.84 ,  84090.46 , 135659.88 , 129042.305,\n",
       "       188207.34 , 105452.555, 160047.34 , 109891.516, 105607.08 ,\n",
       "       155176.52 ,  91550.555, 212253.7  , 100290.25 , 142783.25 ,\n",
       "       125211.18 , 118786.695,  89238.91 ,  37370.64 , 164828.45 ,\n",
       "       180338.66 , 212690.22 , 123859.04 , 118527.7  , 301013.38 ,\n",
       "       111912.15 , 206749.78 , 128288.31 , 340319.97 , 128213.93 ,\n",
       "       340337.47 ,  60114.7  , 124303.34 , 175694.73 , 164083.08 ,\n",
       "       153085.23 , 318224.94 , 124221.9  , 137630.4  ,  52794.094,\n",
       "       163840.38 , 118850.305, 200231.2  , 320297.34 , 144009.34 ,\n",
       "       175562.62 , 138378.44 , 218440.11 , 141946.64 , 235796.84 ,\n",
       "       149022.69 , 132228.8  , 187056.7  , 140773.66 , 118926.984,\n",
       "       278688.72 , 118568.35 , 110135.83 , 189992.64 , 206251.67 ,\n",
       "       199363.62 , 249205.95 , 148090.64 , 558764.3  , 136764.69 ,\n",
       "       173540.73 ,  85467.88 , 143788.61 , 187970.58 , 238153.69 ,\n",
       "       217830.05 , 187340.28 , 185276.86 , 226272.05 , 154802.28 ,\n",
       "       278636.1  , 149276.69 , 149268.23 , 184595.75 , 144225.34 ,\n",
       "       236677.84 , 192765.6  , 161155.19 , 226148.48 , 184558.78 ,\n",
       "       160524.88 , 174600.22 , 212622.95 , 242860.61 , 287034.47 ,\n",
       "       144066.88 , 213461.48 , 135253.12 ,  99731.414, 125682.29 ,\n",
       "        79702.79 ,  92031.02 , 198298.05 , 110186.94 ,  91680.484,\n",
       "       181274.4  , 238557.2  , 294266.1  , 190165.45 , 144743.19 ,\n",
       "       369888.9  , 129092.1  , 371712.62 , 115869.734, 153687.77 ,\n",
       "       310689.8  , 135517.64 , 174354.58 , 205913.17 , 135253.78 ,\n",
       "       174056.4  , 149022.27 , 129796.47 , 205319.9  , 118994.45 ,\n",
       "       169826.19 , 224380.25 , 156408.42 , 228310.53 ,  91992.12 ,\n",
       "       112226.836, 131208.2  , 118997.06 , 148693.28 , 206186.4  ,\n",
       "       213226.39 , 103986.75 , 180754.25 , 104930.72 , 110221.16 ,\n",
       "       128608.99 , 120741.73 , 138525.69 , 110068.65 , 260898.   ,\n",
       "        99767.5  , 322363.62 , 289130.66 , 225300.03 , 129150.26 ,\n",
       "       115487.984, 174464.25 , 135603.17 , 267883.97 , 410161.44 ,\n",
       "       143654.62 , 218133.28 , 131576.22 , 218301.62 , 164981.95 ,\n",
       "       118892.14 , 179689.25 , 180298.14 , 110643.945,  79813.23 ,\n",
       "       154216.17 , 187572.78 , 154247.08 , 142502.94 , 273373.12 ,\n",
       "       481261.5  , 259898.02 ], dtype=float32)"
      ]
     },
     "execution_count": 29,
     "metadata": {},
     "output_type": "execute_result"
    }
   ],
   "source": [
    "y_pred_gbdt"
   ]
  },
  {
   "cell_type": "code",
   "execution_count": 30,
   "metadata": {},
   "outputs": [
    {
     "data": {
      "text/plain": [
       "6323.908589667352"
      ]
     },
     "execution_count": 30,
     "metadata": {},
     "output_type": "execute_result"
    }
   ],
   "source": [
    "mse = mean_squared_error(y_test, y_pred_gbdt)\n",
    "sqrt(mse)"
   ]
  },
  {
   "cell_type": "code",
   "execution_count": 31,
   "metadata": {},
   "outputs": [
    {
     "data": {
      "text/plain": [
       "Text(0.5, 1.0, 'Prices vs Predicted prices: $y_i$ vs $\\\\hat{y}_i$')"
      ]
     },
     "execution_count": 31,
     "metadata": {},
     "output_type": "execute_result"
    },
    {
     "data": {
      "image/png": "[encoded data removed]",
      "text/plain": [
       "<Figure size 432x288 with 1 Axes>"
      ]
     },
     "metadata": {
      "needs_background": "light"
     },
     "output_type": "display_data"
    }
   ],
   "source": [
    "plt.scatter(y_test, y_pred_gbdt)\n",
    "plt.xlabel(\"Prices: $y_i$\")\n",
    "plt.ylabel(\"Prices: $\\hat{y}_i$\")\n",
    "plt.title(\"Prices vs Predicted prices: $y_i$ vs $\\hat{y}_i$\")"
   ]
  },
  {
   "cell_type": "code",
   "execution_count": 32,
   "metadata": {},
   "outputs": [
    {
     "data": {
      "image/png": "[encoded data removed]",
      "text/plain": [
       "<Figure size 432x288 with 1 Axes>"
      ]
     },
     "metadata": {},
     "output_type": "display_data"
    },
    {
     "data": {
      "image/png": "[encoded data removed]",
      "text/plain": [
       "<Figure size 432x288 with 1 Axes>"
      ]
     },
     "metadata": {},
     "output_type": "display_data"
    }
   ],
   "source": [
    "sns.set_style('whitegrid')\n",
    "sns.kdeplot(np.array(y_test))\n",
    "plt.show()\n",
    "\n",
    "sns.kdeplot(np.array(y_pred_gbdt),bw_method=0.5)\n",
    "plt.show()"
   ]
  },
  {
   "cell_type": "markdown",
   "metadata": {},
   "source": [
    "# Random Forest"
   ]
  },
  {
   "cell_type": "code",
   "execution_count": 33,
   "metadata": {
    "scrolled": true
   },
   "outputs": [
    {
     "data": {
      "text/plain": [
       "RandomForestRegressor(random_state=23)"
      ]
     },
     "execution_count": 33,
     "metadata": {},
     "output_type": "execute_result"
    }
   ],
   "source": [
    "regressor_rf = RandomForestRegressor(random_state = 23)\n",
    "regressor_rf.fit(x_train, y_train)"
   ]
  },
  {
   "cell_type": "code",
   "execution_count": null,
   "metadata": {},
   "outputs": [],
   "source": []
  },
  {
   "cell_type": "code",
   "execution_count": 34,
   "metadata": {},
   "outputs": [],
   "source": [
    "y_pred_rf = regressor_rf.predict(x_test)"
   ]
  },
  {
   "cell_type": "code",
   "execution_count": 35,
   "metadata": {},
   "outputs": [
    {
     "data": {
      "text/plain": [
       "array([184949.5 , 117008.  , 135005.  , 381507.08, 160958.19, 116920.  ,\n",
       "       274965.2 , 142949.25, 189979.  , 159986.76, 382714.5 , 233951.4 ,\n",
       "       309750.6 , 142970.77, 224843.  , 149396.  , 448755.07, 185244.5 ,\n",
       "       250081.6 ,  93598.92, 161010.64, 165053.  , 130054.5 , 128976.  ,\n",
       "       177987.6 , 162976.  , 184789.  , 115011.  , 215100.37, 167290.  ,\n",
       "       140003.  , 230104.34, 154912.  , 140003.  , 135911.5 , 310034.12,\n",
       "       239794.87, 153416.55, 120400.5 , 248537.62, 108408.27, 266415.93,\n",
       "        75956.  ,  49062.86, 375737.68, 154999.7 , 124368.  , 193396.  ,\n",
       "       349410.82, 154881.7 , 173909.9 , 315205.83, 184012.5 ,  60034.93,\n",
       "       156873.05, 119594.  ,  55389.3 , 223953.  , 100282.76, 136536.  ,\n",
       "        87222.84, 122900.  , 192080.  , 250185.34, 167951.4 , 184031.5 ,\n",
       "       192706.  , 230135.92, 181184.72, 139938.  , 107835.85, 112040.  ,\n",
       "       157893.66, 131978.  , 227055.1 , 124924.  , 176015.19, 157940.  ,\n",
       "       139896.  , 212946.  , 371948.28, 112850.  , 197563.  , 223599.  ,\n",
       "       155008.7 , 634667.62, 139951.  , 189056.5 , 138874.44, 179103.05,\n",
       "       127015.  , 115101.  , 319991.61, 151137.  , 196196.  , 138942.48,\n",
       "       224904.  , 162930.95, 124963.  , 155007.  , 110023.58,  94435.5 ,\n",
       "       183452.  , 215063.37, 194136.  , 289918.15, 226295.9 , 153763.85,\n",
       "       284982.18, 120076.  , 176020.45, 185647.  , 187133.  , 104208.6 ,\n",
       "       253391.28, 163945.  , 187461.  , 142992.25, 145071.  , 178979.85,\n",
       "       194471.  , 165521.5 ,  75236.  , 169830.  , 234297.9 , 151980.37,\n",
       "       202674.2 , 280004.78, 443181.38,  87108.42, 115983.5 , 154322.48,\n",
       "       416568.27, 169960.  , 147229.  , 161847.  ,  99918.52, 315074.6 ,\n",
       "       165354.9 , 115096.5 , 132479.  , 301629.24, 207502.  , 115187.  ,\n",
       "       315868.46, 241789.99, 137523.  ,  80737.  , 194100.  , 110063.  ,\n",
       "       160011.4 , 177981.8 , 172510.5 , 149633.  , 454335.72, 394703.57,\n",
       "       184121.  , 318492.22, 148086.  , 194966.  , 143512.77, 187043.  ,\n",
       "       232043.8 , 260292.65, 155965.59, 143871.08, 101639.88, 162896.  ,\n",
       "       150653.  , 194539.  , 172469.  , 320077.11, 118294.5 , 146979.  ,\n",
       "       163985.  , 161903.85, 194493.  , 131873.  , 116943.5 , 210099.  ,\n",
       "       186775.  , 227784.8 , 165480.9 , 115156.  , 145059.  , 102577.56,\n",
       "       239858.93, 141070.  , 215265.  , 157852.64, 136880.5 , 209865.  ,\n",
       "       270042.  , 153917.85, 179949.15, 193302.  , 207349.5 , 151364.  ,\n",
       "       122157.  ,  79322.  , 136565.5 , 171792.5 , 170065.  , 259453.  ,\n",
       "       154968.  , 337568.  , 139981.  , 125514.  , 293805.97,  85827.  ,\n",
       "       112080.  , 118969.  , 151310.  , 189954.5 , 126015.  , 232132.96,\n",
       "       189071.5 , 140004.  , 236346.7 , 117796.  , 176012.17, 129593.  ,\n",
       "       235079.6 , 131048.  , 165028.  , 266208.37, 324728.4 , 220835.  ,\n",
       "       269427.79, 177066.59, 120448.  , 179952.05, 129988.  ,  58019.79,\n",
       "       220818.9 , 197443.  , 120015.5 , 192320.  , 255898.78, 143933.52,\n",
       "       252339.28,  58761.72, 184800.  ,  91129.63, 128967.  , 124940.  ,\n",
       "       139988.  , 184841.  , 287674.83, 122910.  , 264192.98, 157599.31,\n",
       "       275041.3 , 156971.55, 319937.09, 123975.  , 204815.5 , 275152.9 ,\n",
       "       153889.48, 105554.  , 151176.  , 289852.38,  84983.  , 135909.  ,\n",
       "       129015.  , 187788.  , 105744.76, 160061.9 , 109704.17, 105561.76,\n",
       "       154923.7 ,  91414.05, 213083.  , 100110.76, 143007.75, 123957.  ,\n",
       "       116983.5 ,  89481.91,  47936.51, 159974.3 , 179871.8 , 209862.  ,\n",
       "       124948.  , 117850.5 , 301792.33, 112242.5 , 204831.5 , 127000.  ,\n",
       "       295894.25, 128033.  , 340108.92,  55331.86, 124335.  , 176996.95,\n",
       "       162845.  , 151974.  , 318335.74, 125820.  , 136892.5 ,  52661.37,\n",
       "       164065.  , 118249.5 , 200564.64, 325102.04, 145081.  , 175996.87,\n",
       "       138990.35, 216589.24, 142952.56, 235208.  , 149856.  , 131980.  ,\n",
       "       189156.5 , 139302.  , 118960.  , 277575.72, 118985.  , 110186.09,\n",
       "       189997.  , 208856.  , 199993.81, 250091.82, 147015.  , 610600.43,\n",
       "       136923.  , 172595.5 ,  85210.  , 145032.5 , 187446.  , 239906.97,\n",
       "       216413.58, 186639.  , 185286.  , 226051.  , 154914.7 , 280196.87,\n",
       "       149806.  , 148929.  , 184958.  , 142937.5 , 235243.4 , 192651.  ,\n",
       "       160002.96, 226165.7 , 185049.  , 158631.68, 173791.97, 213443.  ,\n",
       "       242575.78, 284650.25, 145157.5 , 215078.48, 134490.  , 100267.76,\n",
       "       124941.  ,  80090.  ,  91010.81, 199949.65, 110147.  ,  90630.65,\n",
       "       180506.02, 239808.93, 296544.07, 191024.  , 145073.  , 373399.  ,\n",
       "       129612.5 , 374992.33, 115045.5 , 153467.7 , 304897.43, 135934.  ,\n",
       "       175020.  , 202957.55, 134975.  , 172901.83, 148398.  , 130010.  ,\n",
       "       202661.55, 118959.  , 168356.4 , 222259.  , 156633.92, 231333.66,\n",
       "        91103.13, 112672.5 , 130417.  , 118329.  , 149803.  , 207200.  ,\n",
       "       215123.11, 103048.2 , 180492.  , 105216.  , 110002.  , 128879.  ,\n",
       "       121865.  , 137861.  , 109683.41, 262802.89, 101714.88, 325350.44,\n",
       "       289535.88, 224691.8 , 128908.  , 115115.5 , 174940.  , 136589.  ,\n",
       "       267663.04, 405787.77, 145090.  , 217426.28, 132985.  , 219641.  ,\n",
       "       164903.  , 118175.  , 178025.5 , 181191.04, 110014.66,  79557.  ,\n",
       "       151951.  , 188599.  , 153473.07, 142139.5 , 271256.25, 481964.92,\n",
       "       263223.43])"
      ]
     },
     "execution_count": 35,
     "metadata": {},
     "output_type": "execute_result"
    }
   ],
   "source": [
    "y_pred_rf"
   ]
  },
  {
   "cell_type": "code",
   "execution_count": 36,
   "metadata": {},
   "outputs": [
    {
     "data": {
      "text/plain": [
       "3138.502354797816"
      ]
     },
     "execution_count": 36,
     "metadata": {},
     "output_type": "execute_result"
    }
   ],
   "source": [
    "mse = mean_squared_error(y_test, y_pred_rf)\n",
    "sqrt(mse)"
   ]
  },
  {
   "cell_type": "code",
   "execution_count": 37,
   "metadata": {},
   "outputs": [
    {
     "data": {
      "text/plain": [
       "Text(0.5, 1.0, 'Prices vs Predicted prices: $y_i$ vs $\\\\hat{y}_i$')"
      ]
     },
     "execution_count": 37,
     "metadata": {},
     "output_type": "execute_result"
    },
    {
     "data": {
      "image/png": "[encoded data removed]",
      "text/plain": [
       "<Figure size 432x288 with 1 Axes>"
      ]
     },
     "metadata": {},
     "output_type": "display_data"
    }
   ],
   "source": [
    "plt.scatter(y_test, y_pred_rf)\n",
    "plt.xlabel(\"Prices: $y_i$\")\n",
    "plt.ylabel(\"Prices: $\\hat{y}_i$\")\n",
    "plt.title(\"Prices vs Predicted prices: $y_i$ vs $\\hat{y}_i$\")"
   ]
  },
  {
   "cell_type": "code",
   "execution_count": 38,
   "metadata": {},
   "outputs": [
    {
     "data": {
      "image/png": "[encoded data removed]",
      "text/plain": [
       "<Figure size 432x288 with 1 Axes>"
      ]
     },
     "metadata": {},
     "output_type": "display_data"
    },
    {
     "data": {
      "image/png": "[encoded data removed]",
      "text/plain": [
       "<Figure size 432x288 with 1 Axes>"
      ]
     },
     "metadata": {},
     "output_type": "display_data"
    }
   ],
   "source": [
    "sns.set_style('whitegrid')\n",
    "sns.kdeplot(np.array(y_test))\n",
    "plt.show()\n",
    "\n",
    "sns.kdeplot(np.array(y_pred_rf),bw_method=0.5)\n",
    "plt.show()"
   ]
  },
  {
   "cell_type": "markdown",
   "metadata": {},
   "source": [
    "TRAIN TEST SPLIT 80-20 :"
   ]
  },
  {
   "cell_type": "code",
   "execution_count": 39,
   "metadata": {},
   "outputs": [
    {
     "name": "stdout",
     "output_type": "stream",
     "text": [
      "(1137, 173)\n",
      "(285, 173)\n",
      "(1137,)\n",
      "(285,)\n"
     ]
    }
   ],
   "source": [
    "x_train1, x_test1, y_train1, y_test1 = tts(X, Y, test_size = 0.2, random_state = 42)\n",
    "print(x_train1.shape)\n",
    "print(x_test1.shape)\n",
    "print(y_train1.shape)\n",
    "print(y_test1.shape)"
   ]
  },
  {
   "cell_type": "markdown",
   "metadata": {},
   "source": [
    "GBDT"
   ]
  },
  {
   "cell_type": "code",
   "execution_count": 40,
   "metadata": {},
   "outputs": [
    {
     "data": {
      "text/plain": [
       "XGBRegressor(base_score=0.5, booster='gbtree', colsample_bylevel=1,\n",
       "             colsample_bynode=1, colsample_bytree=1, gamma=0, gpu_id=-1,\n",
       "             importance_type='gain', interaction_constraints='',\n",
       "             learning_rate=0.300000012, max_delta_step=0, max_depth=6,\n",
       "             min_child_weight=1, missing=nan, monotone_constraints='()',\n",
       "             n_estimators=100, n_jobs=8, num_parallel_tree=1, random_state=0,\n",
       "             reg_alpha=0, reg_lambda=1, scale_pos_weight=1, subsample=1,\n",
       "             tree_method='exact', validate_parameters=1, verbosity=None)"
      ]
     },
     "execution_count": 40,
     "metadata": {},
     "output_type": "execute_result"
    }
   ],
   "source": [
    "classifier=xgboost.XGBRegressor()\n",
    "classifier.fit(x_train1,y_train1)"
   ]
  },
  {
   "cell_type": "code",
   "execution_count": 41,
   "metadata": {},
   "outputs": [],
   "source": [
    "# Hyper Parameter Optimization\n",
    "booster=['gbtree','gblinear']\n",
    "base_score=[0.25,0.5,0.75,1]\n",
    "n_estimators = [100, 500, 900, 1100, 1500]\n",
    "max_depth = [2, 3, 5, 10, 15]\n",
    "booster=['gbtree','gblinear']\n",
    "learning_rate=[0.05,0.1,0.15,0.20]\n",
    "min_child_weight=[1,2,3,4]\n",
    "\n",
    "# Define the grid of hyperparameters to search\n",
    "hyperparameter_grid = {\n",
    "    'n_estimators': n_estimators,\n",
    "    'max_depth':max_depth,\n",
    "    'learning_rate':learning_rate,\n",
    "    'min_child_weight':min_child_weight,\n",
    "    'booster':booster,\n",
    "    'base_score':base_score\n",
    "    }\n",
    "\n",
    "# Set up the random search with 5-fold cross validation\n",
    "random_cv = RandomizedSearchCV(estimator=classifier,\n",
    "            param_distributions=hyperparameter_grid,\n",
    "            cv=5, n_iter=50,\n",
    "            scoring = 'neg_mean_absolute_error',n_jobs = 4,\n",
    "            verbose = 5, \n",
    "            return_train_score = True,\n",
    "            random_state=42)"
   ]
  },
  {
   "cell_type": "code",
   "execution_count": 42,
   "metadata": {},
   "outputs": [
    {
     "name": "stdout",
     "output_type": "stream",
     "text": [
      "Fitting 5 folds for each of 50 candidates, totalling 250 fits\n"
     ]
    },
    {
     "name": "stderr",
     "output_type": "stream",
     "text": [
      "[Parallel(n_jobs=4)]: Using backend LokyBackend with 4 concurrent workers.\n",
      "[Parallel(n_jobs=4)]: Done  10 tasks      | elapsed:   19.8s\n",
      "[Parallel(n_jobs=4)]: Done  64 tasks      | elapsed:  2.6min\n",
      "[Parallel(n_jobs=4)]: Done 154 tasks      | elapsed:  5.3min\n",
      "[Parallel(n_jobs=4)]: Done 250 out of 250 | elapsed:  8.2min finished\n"
     ]
    },
    {
     "name": "stdout",
     "output_type": "stream",
     "text": [
      "[18:28:29] WARNING: C:/Users/Administrator/workspace/xgboost-win64_release_1.3.0/src/learner.cc:541: \n",
      "Parameters: { colsample_bylevel, colsample_bynode, colsample_bytree, gamma, interaction_constraints, max_delta_step, max_depth, min_child_weight, monotone_constraints, num_parallel_tree, subsample, tree_method } might not be used.\n",
      "\n",
      "  This may not be accurate due to some parameters are only used in language bindings but\n",
      "  passed down to XGBoost core.  Or some parameters are not used but slip through this\n",
      "  verification. Please open an issue if you find above cases.\n",
      "\n",
      "\n"
     ]
    },
    {
     "data": {
      "text/plain": [
       "XGBRegressor(base_score=0.75, booster='gblinear', colsample_bylevel=1,\n",
       "             colsample_bynode=1, colsample_bytree=1, gamma=0, gpu_id=-1,\n",
       "             importance_type='gain', interaction_constraints='',\n",
       "             learning_rate=0.2, max_delta_step=0, max_depth=2,\n",
       "             min_child_weight=3, missing=nan, monotone_constraints='()',\n",
       "             n_estimators=1500, n_jobs=8, num_parallel_tree=1, random_state=0,\n",
       "             reg_alpha=0, reg_lambda=1, scale_pos_weight=1, subsample=1,\n",
       "             tree_method='exact', validate_parameters=1, verbosity=None)"
      ]
     },
     "execution_count": 42,
     "metadata": {},
     "output_type": "execute_result"
    }
   ],
   "source": [
    "random_cv.fit(x_train1,y_train1)\n",
    "random_cv.best_estimator_"
   ]
  },
  {
   "cell_type": "code",
   "execution_count": 43,
   "metadata": {},
   "outputs": [],
   "source": [
    "regressor_gbdt = xgboost.XGBRegressor(base_score=0.25, booster='gbtree', colsample_bylevel=1,\n",
    "       colsample_bytree=1, gamma=0, learning_rate=0.1, max_delta_step=0,\n",
    "       max_depth=2, min_child_weight=1, missing=1, n_estimators=900,\n",
    "       n_jobs=1, nthread=None, objective='reg:squarederror', random_state=0,\n",
    "       reg_alpha=0, reg_lambda=1, scale_pos_weight=1, seed=None, subsample=1)\n",
    "regressor_gbdt.fit(x_train1,y_train1)\n",
    "\n",
    "# Saving as pickle file\n",
    "filename = 'finalized_model.pk1'\n",
    "pickle.dump(regressor_gbdt, open(filename,'wb'))"
   ]
  },
  {
   "cell_type": "code",
   "execution_count": 44,
   "metadata": {},
   "outputs": [],
   "source": [
    "y_pred_gbdt1 = regressor_gbdt.predict(x_test1)"
   ]
  },
  {
   "cell_type": "code",
   "execution_count": 45,
   "metadata": {},
   "outputs": [
    {
     "data": {
      "text/plain": [
       "array([185005.47 , 118136.71 , 135023.33 , 381332.4  , 163975.89 ,\n",
       "       118524.67 , 274989.84 , 143480.28 , 190538.64 , 158139.38 ,\n",
       "       386809.16 , 235580.03 , 314263.9  , 142475.   , 224902.77 ,\n",
       "       147970.66 , 433929.34 , 185413.05 , 250475.28 ,  93120.23 ,\n",
       "       164227.38 , 164788.08 , 129659.94 , 128751.83 , 176187.33 ,\n",
       "       164138.14 , 184971.78 , 114114.234, 216601.8  , 165844.   ,\n",
       "       139105.98 , 229671.77 , 154174.94 , 139058.75 , 134515.06 ,\n",
       "       315229.12 , 241406.64 , 154251.83 , 121032.16 , 250574.11 ,\n",
       "       108823.836, 268257.8  ,  76290.59 ,  37330.258, 373681.53 ,\n",
       "       154911.17 , 125214.88 , 193641.88 , 353018.97 , 155039.19 ,\n",
       "       173953.7  , 314836.03 , 183520.44 ,  65945.05 , 159001.03 ,\n",
       "       119371.87 ,  60252.18 , 225766.95 , 100331.69 , 138675.4  ,\n",
       "        85697.2  , 120695.984, 192988.34 , 251046.23 , 166028.48 ,\n",
       "       183321.92 , 192478.97 , 228855.31 , 180454.66 , 139133.6  ,\n",
       "       107719.664, 113458.41 , 158891.28 , 132478.84 , 226930.9  ,\n",
       "       126020.31 , 178243.28 , 160861.58 , 139012.55 , 212614.12 ,\n",
       "       373548.9  , 113473.47 , 197652.38 , 224351.2  , 154912.52 ,\n",
       "       691184.06 , 138935.92 , 189631.53 , 139137.75 , 176661.97 ,\n",
       "       125859.41 , 114282.15 , 321412.56 , 149202.22 , 194360.9  ,\n",
       "       138739.9  , 225448.25 , 163785.6  , 125589.07 , 154620.88 ,\n",
       "       109661.93 ,  93345.77 , 183178.7  , 217221.8  , 194601.23 ,\n",
       "       289512.16 , 225867.66 , 154027.66 , 285305.2  , 118876.64 ,\n",
       "       178154.88 , 185315.84 , 186889.81 , 104786.56 , 251870.88 ,\n",
       "       164455.73 , 188805.98 , 142879.11 , 145967.06 , 177276.22 ,\n",
       "       194233.94 , 166288.28 ,  75748.625, 170573.83 , 235274.17 ,\n",
       "       154539.62 , 204021.2  , 280467.72 , 427701.28 ,  85185.016,\n",
       "       117633.71 , 153145.2  , 408056.62 , 171027.62 , 148421.6  ,\n",
       "       164207.27 , 100200.586, 314276.62 , 166242.56 , 114020.19 ,\n",
       "       131833.45 , 303548.   , 207660.28 , 114081.13 , 315557.12 ,\n",
       "       241288.47 , 137726.22 ,  80291.84 , 194193.22 , 109674.4  ,\n",
       "       158435.36 , 177185.02 , 172987.86 , 148616.88 , 435409.97 ,\n",
       "       392119.75 , 184082.48 , 318157.88 , 147912.56 , 194067.55 ,\n",
       "       142540.77 , 186705.38 , 229082.81 , 257891.98 , 154060.44 ,\n",
       "       143163.66 , 100379.73 , 164213.02 , 148553.83 , 194579.17 ,\n",
       "       173677.27 , 321590.94 , 118296.47 , 148159.27 , 164022.45 ,\n",
       "       164028.62 , 193102.81 , 132236.61 , 117886.08 , 212541.66 ,\n",
       "       186874.47 , 227603.06 , 165957.42 , 114149.36 , 145825.2  ,\n",
       "       104304.055, 240619.45 , 142334.89 , 217556.62 , 159019.72 ,\n",
       "       137816.12 , 212758.89 , 269134.34 , 154325.86 , 180523.8  ,\n",
       "       193192.34 , 206033.89 , 148687.   , 120957.62 ,  78777.125,\n",
       "       138463.9  , 172035.3  , 171119.81 , 259818.17 , 154442.67 ,\n",
       "       337287.2  , 139712.6  , 125154.26 , 294124.28 ,  85284.58 ,\n",
       "       112922.53 , 119235.516, 148758.7  , 189002.02 , 126195.15 ,\n",
       "       229037.94 , 190549.97 , 139307.23 , 236489.5  , 117557.586,\n",
       "       176309.86 , 130181.35 , 237359.05 , 132253.02 , 164829.84 ,\n",
       "       269030.84 , 326132.6  , 224995.17 , 268885.88 , 176729.25 ,\n",
       "       120870.59 , 180981.62 , 129688.59 ,  64846.582, 224328.08 ,\n",
       "       198445.3  , 119122.57 , 193434.2  , 257613.39 , 143369.4  ,\n",
       "       250900.64 ,  59624.156, 185716.06 ,  90671.12 , 128364.05 ,\n",
       "       124834.61 , 139110.08 , 184815.23 , 285773.2  , 120761.21 ,\n",
       "       269837.38 , 159601.23 , 273092.28 , 158568.7  , 320613.84 ,\n",
       "       125023.18 , 205087.62 , 276060.97 , 153948.22 , 107130.53 ,\n",
       "       149007.8  , 289681.44 ,  85427.555, 135720.72 , 128992.11 ,\n",
       "       186767.67 , 107122.41 , 158674.94 , 109632.95 , 107409.875,\n",
       "       153972.62 ,  91016.94 , 211244.6  ,  99449.414, 142758.11 ,\n",
       "       125507.61 , 117689.23 ,  91196.5  ,  37542.074, 158154.88 ,\n",
       "       180821.98 , 213193.11 , 125545.17 , 118513.48 , 302007.62 ],\n",
       "      dtype=float32)"
      ]
     },
     "execution_count": 45,
     "metadata": {},
     "output_type": "execute_result"
    }
   ],
   "source": [
    "y_pred_gbdt1"
   ]
  },
  {
   "cell_type": "code",
   "execution_count": 46,
   "metadata": {},
   "outputs": [
    {
     "data": {
      "text/plain": [
       "4212.215370967135"
      ]
     },
     "execution_count": 46,
     "metadata": {},
     "output_type": "execute_result"
    }
   ],
   "source": [
    "mse = mean_squared_error(y_test1, y_pred_gbdt1)\n",
    "sqrt(mse)"
   ]
  },
  {
   "cell_type": "code",
   "execution_count": 47,
   "metadata": {},
   "outputs": [
    {
     "data": {
      "text/plain": [
       "Text(0.5, 1.0, 'Prices vs Predicted prices: $y_i$ vs $\\\\hat{y}_i$')"
      ]
     },
     "execution_count": 47,
     "metadata": {},
     "output_type": "execute_result"
    },
    {
     "data": {
      "image/png": "[encoded data removed]",
      "text/plain": [
       "<Figure size 432x288 with 1 Axes>"
      ]
     },
     "metadata": {},
     "output_type": "display_data"
    }
   ],
   "source": [
    "plt.scatter(y_test1, y_pred_gbdt1)\n",
    "plt.xlabel(\"Prices: $y_i$\")\n",
    "plt.ylabel(\"Prices: $\\hat{y}_i$\")\n",
    "plt.title(\"Prices vs Predicted prices: $y_i$ vs $\\hat{y}_i$\")"
   ]
  },
  {
   "cell_type": "code",
   "execution_count": 48,
   "metadata": {},
   "outputs": [
    {
     "data": {
      "image/png": "[encoded data removed]",
      "text/plain": [
       "<Figure size 432x288 with 1 Axes>"
      ]
     },
     "metadata": {},
     "output_type": "display_data"
    },
    {
     "data": {
      "image/png": "[encoded data removed]",
      "text/plain": [
       "<Figure size 432x288 with 1 Axes>"
      ]
     },
     "metadata": {},
     "output_type": "display_data"
    }
   ],
   "source": [
    "sns.set_style('whitegrid')\n",
    "sns.kdeplot(np.array(y_test1))\n",
    "plt.show()\n",
    "\n",
    "sns.kdeplot(np.array(y_pred_gbdt1),bw_method=0.5)\n",
    "plt.show()"
   ]
  },
  {
   "cell_type": "markdown",
   "metadata": {},
   "source": [
    "RANDOM FOREST"
   ]
  },
  {
   "cell_type": "code",
   "execution_count": 49,
   "metadata": {},
   "outputs": [
    {
     "data": {
      "text/plain": [
       "RandomForestRegressor(random_state=23)"
      ]
     },
     "execution_count": 49,
     "metadata": {},
     "output_type": "execute_result"
    }
   ],
   "source": [
    "regressor_rf = RandomForestRegressor(random_state = 23)\n",
    "regressor_rf.fit(x_train1, y_train1)"
   ]
  },
  {
   "cell_type": "code",
   "execution_count": 50,
   "metadata": {},
   "outputs": [],
   "source": [
    "y_pred_rf1 = regressor_rf.predict(x_test1)"
   ]
  },
  {
   "cell_type": "code",
   "execution_count": 51,
   "metadata": {},
   "outputs": [
    {
     "data": {
      "text/plain": [
       "array([185019.5 , 116785.  , 134998.  , 380960.56, 160860.5 , 116775.5 ,\n",
       "       274983.1 , 143001.  , 190019.5 , 159950.14, 384083.3 , 233275.2 ,\n",
       "       309227.68, 143031.  , 224888.  , 149534.  , 443520.08, 185587.5 ,\n",
       "       250078.98,  93671.  , 160960.45, 164994.8 , 129998.5 , 128978.  ,\n",
       "       178119.25, 162972.  , 185183.  , 114915.6 , 215110.37, 167312.6 ,\n",
       "       140015.  , 229976.92, 154984.  , 140016.  , 135935.95, 309567.79,\n",
       "       239895.8 , 153439.45, 120370.  , 248802.44, 108577.33, 266616.22,\n",
       "        76023.  ,  45769.72, 375696.08, 155053.05, 124447.  , 193130.  ,\n",
       "       349776.54, 154973.35, 173911.6 , 314826.17, 183825.5 ,  63275.  ,\n",
       "       156874.72, 119550.  ,  58829.58, 224027.  , 100056.  , 136595.7 ,\n",
       "        87018.71, 122850.  , 192234.  , 249992.38, 168009.4 , 183758.  ,\n",
       "       192787.  , 230102.74, 181001.7 , 139927.  , 107867.18, 112010.  ,\n",
       "       157883.  , 131999.  , 226803.4 , 124980.75, 175995.72, 158028.  ,\n",
       "       139913.  , 212819.3 , 371533.07, 112882.54, 197393.  , 223480.  ,\n",
       "       155043.7 , 631915.48, 139937.  , 188910.  , 138882.7 , 179007.95,\n",
       "       126998.5 , 114945.84, 319918.48, 151170.  , 195909.  , 138927.09,\n",
       "       224982.  , 162890.  , 124995.  , 155007.35, 110009.  ,  94568.21,\n",
       "       183366.  , 215119.74, 194142.  , 289998.97, 226008.8 , 153754.86,\n",
       "       284972.44, 119964.  , 176008.98, 185787.5 , 186934.  , 103221.84,\n",
       "       253576.82, 163942.  , 187426.5 , 143068.75, 145034.5 , 178861.85,\n",
       "       194448.  , 165583.5 ,  75928.  , 169910.  , 234334.3 , 151895.  ,\n",
       "       202699.75, 279849.37, 427088.49,  87054.42, 115923.74, 154439.85,\n",
       "       415303.79, 169945.  , 147309.  , 161855.  ,  99979.76, 314974.58,\n",
       "       165470.5 , 114940.48, 132456.5 , 302246.47, 207461.5 , 115005.44,\n",
       "       317055.91, 241471.99, 137526.  ,  80754.  , 194070.  , 110018.  ,\n",
       "       159983.94, 178038.4 , 172520.95, 149662.  , 441255.17, 397812.4 ,\n",
       "       183809.  , 318094.11, 148034.  , 194910.  , 143426.75, 186885.  ,\n",
       "       232015.92, 260199.47, 155989.86, 143881.6 , 102093.12, 162931.  ,\n",
       "       150807.  , 194425.  , 172429.9 , 319861.98, 118510.  , 146822.  ,\n",
       "       163958.  , 161977.45, 194470.  , 131950.5 , 116818.  , 209952.  ,\n",
       "       186618.5 , 227775.6 , 165604.4 , 114915.86, 145064.5 , 102899.24,\n",
       "       239851.96, 141077.5 , 215085.9 , 157873.92, 136962.8 , 209915.  ,\n",
       "       269924.11, 153879.23, 179952.35, 193061.  , 207337.5 , 151292.  ,\n",
       "       122164.  ,  78927.  , 136592.95, 171726.5 , 170045.  , 259390.8 ,\n",
       "       154967.35, 337462.29, 140010.  , 125617.75, 295153.11,  85766.  ,\n",
       "       112090.  , 119021.  , 151317.  , 189977.5 , 126063.  , 231926.06,\n",
       "       188818.  , 139996.  , 236475.  , 117930.5 , 176010.85, 129468.  ,\n",
       "       235080.7 , 131079.  , 165020.6 , 265012.05, 325842.79, 220987.1 ,\n",
       "       269873.46, 176996.89, 120401.5 , 179970.4 , 129999.5 ,  60145.79,\n",
       "       220956.  , 197264.  , 119956.  , 192401.  , 255869.  , 143926.  ,\n",
       "       252132.9 ,  59080.72, 185117.  ,  91285.5 , 128992.  , 124972.75,\n",
       "       139991.  , 184955.5 , 287218.5 , 122878.  , 264268.69, 157494.96,\n",
       "       275091.7 , 157006.24, 319831.98, 123967.  , 204861.  , 275227.5 ,\n",
       "       153879.75, 105418.76, 151151.  , 290088.25,  85018.  , 135888.7 ,\n",
       "       129034.  , 187857.5 , 105936.  , 160007.4 , 109506.33, 105815.  ,\n",
       "       155053.05,  91325.  , 213244.  ,  99987.  , 143112.5 , 124024.  ,\n",
       "       116803.  ,  90227.86,  46297.44, 159935.93, 179898.85, 209777.  ,\n",
       "       124997.  , 117955.  , 301780.43])"
      ]
     },
     "execution_count": 51,
     "metadata": {},
     "output_type": "execute_result"
    }
   ],
   "source": [
    "y_pred_rf1"
   ]
  },
  {
   "cell_type": "code",
   "execution_count": 52,
   "metadata": {},
   "outputs": [
    {
     "data": {
      "text/plain": [
       "1084.5796574312487"
      ]
     },
     "execution_count": 52,
     "metadata": {},
     "output_type": "execute_result"
    }
   ],
   "source": [
    "mse = mean_squared_error(y_test1, y_pred_rf1)\n",
    "sqrt(mse)"
   ]
  },
  {
   "cell_type": "code",
   "execution_count": 53,
   "metadata": {},
   "outputs": [
    {
     "data": {
      "text/plain": [
       "Text(0.5, 1.0, 'Prices vs Predicted prices: $y_i$ vs $\\\\hat{y}_i$')"
      ]
     },
     "execution_count": 53,
     "metadata": {},
     "output_type": "execute_result"
    },
    {
     "data": {
      "image/png": "[encoded data removed]",
      "text/plain": [
       "<Figure size 432x288 with 1 Axes>"
      ]
     },
     "metadata": {},
     "output_type": "display_data"
    }
   ],
   "source": [
    "plt.scatter(y_test1, y_pred_rf1)\n",
    "plt.xlabel(\"Prices: $y_i$\")\n",
    "plt.ylabel(\"Prices: $\\hat{y}_i$\")\n",
    "plt.title(\"Prices vs Predicted prices: $y_i$ vs $\\hat{y}_i$\")"
   ]
  },
  {
   "cell_type": "code",
   "execution_count": 54,
   "metadata": {},
   "outputs": [
    {
     "data": {
      "image/png": "[encoded data removed]",
      "text/plain": [
       "<Figure size 432x288 with 1 Axes>"
      ]
     },
     "metadata": {},
     "output_type": "display_data"
    },
    {
     "data": {
      "image/png": "[encoded data removed]",
      "text/plain": [
       "<Figure size 432x288 with 1 Axes>"
      ]
     },
     "metadata": {},
     "output_type": "display_data"
    }
   ],
   "source": [
    "sns.set_style('whitegrid')\n",
    "sns.kdeplot(np.array(y_test1))\n",
    "plt.show()\n",
    "\n",
    "sns.kdeplot(np.array(y_pred_rf1),bw_method=0.5)\n",
    "plt.show()"
   ]
  },
  {
   "cell_type": "markdown",
   "metadata": {},
   "source": [
    "TRAIN TEST SPLIT 65-35"
   ]
  },
  {
   "cell_type": "code",
   "execution_count": 55,
   "metadata": {},
   "outputs": [
    {
     "name": "stdout",
     "output_type": "stream",
     "text": [
      "(924, 173)\n",
      "(498, 173)\n",
      "(924,)\n",
      "(498,)\n"
     ]
    }
   ],
   "source": [
    "x_train2, x_test2, y_train2, y_test2 = tts(X, Y, test_size = 0.35, random_state = 42)\n",
    "print(x_train2.shape)\n",
    "print(x_test2.shape)\n",
    "print(y_train2.shape)\n",
    "print(y_test2.shape)"
   ]
  },
  {
   "cell_type": "markdown",
   "metadata": {},
   "source": [
    "GBDT"
   ]
  },
  {
   "cell_type": "code",
   "execution_count": 56,
   "metadata": {},
   "outputs": [
    {
     "data": {
      "text/plain": [
       "XGBRegressor(base_score=0.5, booster='gbtree', colsample_bylevel=1,\n",
       "             colsample_bynode=1, colsample_bytree=1, gamma=0, gpu_id=-1,\n",
       "             importance_type='gain', interaction_constraints='',\n",
       "             learning_rate=0.300000012, max_delta_step=0, max_depth=6,\n",
       "             min_child_weight=1, missing=nan, monotone_constraints='()',\n",
       "             n_estimators=100, n_jobs=8, num_parallel_tree=1, random_state=0,\n",
       "             reg_alpha=0, reg_lambda=1, scale_pos_weight=1, subsample=1,\n",
       "             tree_method='exact', validate_parameters=1, verbosity=None)"
      ]
     },
     "execution_count": 56,
     "metadata": {},
     "output_type": "execute_result"
    }
   ],
   "source": [
    "classifier=xgboost.XGBRegressor()\n",
    "classifier.fit(x_train2,y_train2)"
   ]
  },
  {
   "cell_type": "code",
   "execution_count": 57,
   "metadata": {},
   "outputs": [],
   "source": [
    "# Hyper Parameter Optimization\n",
    "booster=['gbtree','gblinear']\n",
    "base_score=[0.25,0.5,0.75,1]\n",
    "n_estimators = [100, 500, 900, 1100, 1500]\n",
    "max_depth = [2, 3, 5, 10, 15]\n",
    "booster=['gbtree','gblinear']\n",
    "learning_rate=[0.05,0.1,0.15,0.20]\n",
    "min_child_weight=[1,2,3,4]\n",
    "\n",
    "# Define the grid of hyperparameters to search\n",
    "hyperparameter_grid = {\n",
    "    'n_estimators': n_estimators,\n",
    "    'max_depth':max_depth,\n",
    "    'learning_rate':learning_rate,\n",
    "    'min_child_weight':min_child_weight,\n",
    "    'booster':booster,\n",
    "    'base_score':base_score\n",
    "    }\n",
    "\n",
    "# Set up the random search with 5-fold cross validation\n",
    "random_cv = RandomizedSearchCV(estimator=classifier,\n",
    "            param_distributions=hyperparameter_grid,\n",
    "            cv=5, n_iter=50,\n",
    "            scoring = 'neg_mean_absolute_error',n_jobs = 4,\n",
    "            verbose = 5, \n",
    "            return_train_score = True,\n",
    "            random_state=42)"
   ]
  },
  {
   "cell_type": "code",
   "execution_count": 58,
   "metadata": {},
   "outputs": [
    {
     "name": "stdout",
     "output_type": "stream",
     "text": [
      "Fitting 5 folds for each of 50 candidates, totalling 250 fits\n"
     ]
    },
    {
     "name": "stderr",
     "output_type": "stream",
     "text": [
      "[Parallel(n_jobs=4)]: Using backend LokyBackend with 4 concurrent workers.\n",
      "[Parallel(n_jobs=4)]: Done  10 tasks      | elapsed:   14.4s\n",
      "[Parallel(n_jobs=4)]: Done  64 tasks      | elapsed:  2.3min\n",
      "[Parallel(n_jobs=4)]: Done 154 tasks      | elapsed:  5.1min\n",
      "[Parallel(n_jobs=4)]: Done 250 out of 250 | elapsed:  7.7min finished\n"
     ]
    },
    {
     "name": "stdout",
     "output_type": "stream",
     "text": [
      "[18:36:23] WARNING: C:/Users/Administrator/workspace/xgboost-win64_release_1.3.0/src/learner.cc:541: \n",
      "Parameters: { colsample_bylevel, colsample_bynode, colsample_bytree, gamma, interaction_constraints, max_delta_step, max_depth, min_child_weight, monotone_constraints, num_parallel_tree, subsample, tree_method } might not be used.\n",
      "\n",
      "  This may not be accurate due to some parameters are only used in language bindings but\n",
      "  passed down to XGBoost core.  Or some parameters are not used but slip through this\n",
      "  verification. Please open an issue if you find above cases.\n",
      "\n",
      "\n"
     ]
    },
    {
     "data": {
      "text/plain": [
       "XGBRegressor(base_score=1, booster='gblinear', colsample_bylevel=1,\n",
       "             colsample_bynode=1, colsample_bytree=1, gamma=0, gpu_id=-1,\n",
       "             importance_type='gain', interaction_constraints='',\n",
       "             learning_rate=0.2, max_delta_step=0, max_depth=2,\n",
       "             min_child_weight=3, missing=nan, monotone_constraints='()',\n",
       "             n_estimators=1500, n_jobs=8, num_parallel_tree=1, random_state=0,\n",
       "             reg_alpha=0, reg_lambda=1, scale_pos_weight=1, subsample=1,\n",
       "             tree_method='exact', validate_parameters=1, verbosity=None)"
      ]
     },
     "execution_count": 58,
     "metadata": {},
     "output_type": "execute_result"
    }
   ],
   "source": [
    "random_cv.fit(x_train2,y_train2)\n",
    "random_cv.best_estimator_"
   ]
  },
  {
   "cell_type": "code",
   "execution_count": 59,
   "metadata": {},
   "outputs": [],
   "source": [
    "regressor_gbdt = xgboost.XGBRegressor(base_score=0.25, booster='gbtree', colsample_bylevel=1,\n",
    "       colsample_bytree=1, gamma=0, learning_rate=0.1, max_delta_step=0,\n",
    "       max_depth=2, min_child_weight=1, missing=1, n_estimators=900,\n",
    "       n_jobs=1, nthread=None, objective='reg:squarederror', random_state=0,\n",
    "       reg_alpha=0, reg_lambda=1, scale_pos_weight=1, seed=None, subsample=1)\n",
    "regressor_gbdt.fit(x_train2,y_train2)\n",
    "\n",
    "# Saving as pickle file\n",
    "filename = 'finalized_model.pk1'\n",
    "pickle.dump(regressor_gbdt, open(filename,'wb'))"
   ]
  },
  {
   "cell_type": "code",
   "execution_count": 60,
   "metadata": {},
   "outputs": [],
   "source": [
    "y_pred_gbdt2 = regressor_gbdt.predict(x_test2)"
   ]
  },
  {
   "cell_type": "code",
   "execution_count": 61,
   "metadata": {},
   "outputs": [
    {
     "data": {
      "text/plain": [
       "array([184452.6  , 118748.14 , 135962.33 , 385274.03 , 160936.56 ,\n",
       "       117706.914, 275257.8  , 142812.05 , 190648.33 , 160454.66 ,\n",
       "       386524.06 , 234835.58 , 305602.   , 143827.78 , 224473.47 ,\n",
       "       148785.2  , 440299.97 , 186017.55 , 249628.31 ,  91228.41 ,\n",
       "       160568.14 , 165154.56 , 130490.   , 130548.63 , 176941.77 ,\n",
       "       162971.98 , 184770.1  , 113920.23 , 214022.7  , 169643.11 ,\n",
       "       140163.5  , 229272.   , 155359.33 , 140579.75 , 135795.8  ,\n",
       "       305698.84 , 240795.31 , 153821.08 , 120244.2  , 248556.62 ,\n",
       "       108083.63 , 266639.4  ,  75728.87 ,  37869.516, 379327.94 ,\n",
       "       154451.2  , 124363.76 , 194128.67 , 349758.88 , 156061.67 ,\n",
       "       173143.27 , 315769.62 , 183664.52 ,  66526.12 , 155625.14 ,\n",
       "       119084.945,  60625.555, 224109.86 , 100245.59 , 136342.75 ,\n",
       "        87233.07 , 124528.31 , 192803.08 , 250231.55 , 169930.55 ,\n",
       "       183995.89 , 192789.67 , 228079.14 , 181666.75 , 141013.55 ,\n",
       "       108474.13 , 113204.48 , 157031.56 , 131652.7  , 227415.45 ,\n",
       "       124630.63 , 176292.81 , 157038.89 , 139662.48 , 212062.58 ,\n",
       "       376189.53 , 112750.43 , 198729.2  , 224995.69 , 154980.58 ,\n",
       "       749015.7  , 140219.2  , 189622.28 , 137352.05 , 179424.62 ,\n",
       "       126907.02 , 113669.516, 320555.38 , 148126.53 , 195264.22 ,\n",
       "       137847.5  , 225249.3  , 163129.58 , 124501.72 , 154725.16 ,\n",
       "       109731.836,  95886.336, 183591.38 , 214806.38 , 193895.28 ,\n",
       "       290357.56 , 226792.72 , 154129.03 , 285713.7  , 120475.05 ,\n",
       "       176170.27 , 186526.78 , 187260.33 , 103811.1  , 249590.17 ,\n",
       "       163970.52 , 187552.92 , 143269.53 , 144114.48 , 180387.34 ,\n",
       "       194470.86 , 165363.9  ,  75954.52 , 169410.45 , 233812.06 ,\n",
       "       154349.83 , 203651.06 , 279554.4  , 425335.47 ,  86510.375,\n",
       "       117622.67 , 154595.33 , 421962.62 , 169684.27 , 147064.12 ,\n",
       "       161640.28 , 100863.305, 314539.47 , 164996.52 , 113541.66 ,\n",
       "       131196.6  , 296003.75 , 206955.53 , 113498.69 , 318173.28 ,\n",
       "       241074.62 , 137061.53 ,  80605.52 , 194028.84 , 110358.74 ,\n",
       "       159821.81 , 176661.73 , 173454.61 , 148633.44 , 438877.88 ,\n",
       "       393166.44 , 184522.64 , 317600.16 , 147354.75 , 193494.05 ,\n",
       "       143955.   , 186296.48 , 235016.1  , 259708.5  , 156318.02 ,\n",
       "       143512.95 , 103827.36 , 163923.44 , 148143.42 , 193659.52 ,\n",
       "       173033.31 , 319891.53 , 117679.67 , 146512.83 , 164005.48 ,\n",
       "       160582.81 , 193833.27 , 131295.34 , 117815.99 , 212114.14 ,\n",
       "       185957.73 , 228101.56 , 164961.61 , 113727.7  , 144735.81 ,\n",
       "       103677.016, 240176.45 , 140987.66 , 215096.16 , 156377.11 ,\n",
       "       137827.03 , 214215.52 , 270084.2  , 153910.38 , 179832.48 ,\n",
       "       194268.39 , 206578.84 , 148534.27 , 124410.234,  79219.98 ,\n",
       "       134891.42 , 173772.75 , 170227.38 , 261081.94 , 155154.9  ,\n",
       "       338410.28 , 140504.52 , 123987.664, 297820.1  ,  85705.71 ,\n",
       "       114171.336, 119220.95 , 148610.5  , 187113.17 , 127405.35 ,\n",
       "       234693.77 , 189486.72 , 140596.38 , 235502.98 , 119267.12 ,\n",
       "       175749.3  , 130196.195, 236165.03 , 130683.31 , 165694.25 ,\n",
       "       267059.6  , 323733.   , 225180.4  , 269671.38 , 176125.92 ,\n",
       "       120892.11 , 179435.92 , 129553.52 ,  64475.027, 224736.7  ,\n",
       "       198538.48 , 120224.4  , 193152.56 , 255628.27 , 143349.62 ,\n",
       "       250079.94 ,  59929.984, 185284.28 ,  91914.18 , 130038.57 ,\n",
       "       124725.58 , 140705.17 , 185200.77 , 287201.84 , 123637.92 ,\n",
       "       266395.75 , 156345.44 , 275886.5  , 156198.86 , 320301.78 ,\n",
       "       124259.85 , 205195.66 , 275507.06 , 154579.72 , 108068.2  ,\n",
       "       148405.98 , 290581.62 ,  86047.67 , 136888.89 , 129565.984,\n",
       "       187014.28 , 106849.22 , 160429.47 , 109126.42 , 107392.766,\n",
       "       155587.11 ,  92163.5  , 214700.45 , 100132.66 , 142746.56 ,\n",
       "       125042.74 , 118382.57 ,  89265.58 ,  37224.496, 160626.69 ,\n",
       "       179984.05 , 212521.52 , 124978.58 , 116871.69 , 296617.3  ,\n",
       "       113874.72 , 204341.5  , 127380.   , 347145.22 , 127806.2  ,\n",
       "       339262.03 ,  60493.31 , 124955.27 , 176667.11 , 163831.52 ,\n",
       "       153608.47 , 317181.56 , 124352.766, 137490.14 ,  52607.312,\n",
       "       164192.1  , 118047.01 , 201760.1  , 322809.12 , 143694.19 ,\n",
       "       175700.05 , 137676.55 , 218179.97 , 142970.33 , 235014.28 ,\n",
       "       148613.47 , 132419.22 , 189667.1  , 140573.2  , 120170.78 ,\n",
       "       279302.47 , 119363.945, 109475.445, 190186.88 , 206282.47 ,\n",
       "       200152.53 , 249753.19 , 147253.16 , 558612.25 , 137661.61 ,\n",
       "       172804.3  ,  85514.98 , 143389.64 , 187363.23 , 239541.16 ,\n",
       "       218024.3  , 186634.86 , 186213.73 , 226664.73 , 155140.27 ,\n",
       "       280146.9  , 149028.03 , 148423.48 , 184600.89 , 143008.64 ,\n",
       "       235724.44 , 193417.4  , 161263.97 , 227127.56 , 184906.52 ,\n",
       "       160013.11 , 174252.3  , 213642.53 , 242178.23 , 284656.6  ,\n",
       "       144005.33 , 214424.39 , 135333.66 , 100028.59 , 126754.97 ,\n",
       "        80593.43 ,  91695.56 , 200560.02 , 110098.25 ,  91646.47 ,\n",
       "       180689.39 , 239969.94 , 295036.4  , 189548.08 , 144385.05 ,\n",
       "       374331.06 , 130111.38 , 376351.94 , 112958.59 , 153604.88 ,\n",
       "       305954.34 , 135755.3  , 175059.61 , 205642.06 , 135877.36 ,\n",
       "       173415.02 , 148842.98 , 129911.21 , 205056.39 , 119781.65 ,\n",
       "       170248.27 , 224698.3  , 156135.25 , 234570.16 ,  91886.85 ,\n",
       "       113993.29 , 131132.97 , 118332.34 , 148609.47 , 206216.39 ,\n",
       "       213991.77 , 103894.69 , 179678.48 , 103310.86 , 109709.42 ,\n",
       "       129788.25 , 120125.14 , 137709.83 , 109980.555, 266704.44 ,\n",
       "       103281.06 , 323744.75 , 289375.38 , 224971.73 , 129864.97 ,\n",
       "       113557.52 , 174319.88 , 136266.4  , 266885.8  , 402920.78 ,\n",
       "       143685.52 , 218191.02 , 131207.92 , 218187.83 , 165334.69 ,\n",
       "       118240.086, 176778.   , 181460.5  , 110410.38 ,  80398.06 ,\n",
       "       154102.33 , 190037.86 , 154807.08 , 143206.05 , 274953.8  ,\n",
       "       478853.53 , 266758.84 , 109947.266, 156283.08 , 206398.55 ,\n",
       "       155617.81 , 127652.414, 165614.2  , 113682.234, 187860.28 ,\n",
       "       266648.62 , 175980.86 , 217621.03 , 559657.3  , 213719.67 ,\n",
       "       240714.33 ,  79344.37 ,  97149.69 , 144059.12 , 214181.73 ,\n",
       "       256715.03 , 148989.45 , 402290.5  , 130016.   , 154522.45 ,\n",
       "       109553.695,  54375.22 , 243945.08 , 130488.74 , 161141.44 ,\n",
       "       103707.6  , 256583.94 , 148136.39 , 137919.52 , 192935.61 ,\n",
       "       173607.14 , 131639.88 , 103040.   , 148481.23 , 130996.32 ,\n",
       "       117898.24 , 287784.56 , 173828.39 , 170347.3  , 427203.84 ,\n",
       "       124933.06 , 124024.625, 181735.17 , 126932.33 , 205225.77 ,\n",
       "       212748.97 ,  90023.64 , 137400.25 , 179858.72 , 119525.97 ,\n",
       "       199761.9  , 163835.94 , 176754.16 , 170305.83 , 284310.38 ,\n",
       "       181723.39 , 338790.12 , 187537.6  , 176568.06 , 140838.9  ,\n",
       "       230889.69 , 169621.17 ,  87359.9  , 174116.23 , 260754.52 ,\n",
       "       218047.27 , 148560.98 , 144171.55 ], dtype=float32)"
      ]
     },
     "execution_count": 61,
     "metadata": {},
     "output_type": "execute_result"
    }
   ],
   "source": [
    "y_pred_gbdt2"
   ]
  },
  {
   "cell_type": "code",
   "execution_count": 62,
   "metadata": {},
   "outputs": [
    {
     "data": {
      "text/plain": [
       "6302.694367666291"
      ]
     },
     "execution_count": 62,
     "metadata": {},
     "output_type": "execute_result"
    }
   ],
   "source": [
    "mse = mean_squared_error(y_test2, y_pred_gbdt2)\n",
    "sqrt(mse)"
   ]
  },
  {
   "cell_type": "code",
   "execution_count": 63,
   "metadata": {},
   "outputs": [
    {
     "data": {
      "text/plain": [
       "Text(0.5, 1.0, 'Prices vs Predicted prices: $y_i$ vs $\\\\hat{y}_i$')"
      ]
     },
     "execution_count": 63,
     "metadata": {},
     "output_type": "execute_result"
    },
    {
     "data": {
      "image/png": "[encoded data removed]",
      "text/plain": [
       "<Figure size 432x288 with 1 Axes>"
      ]
     },
     "metadata": {},
     "output_type": "display_data"
    }
   ],
   "source": [
    "plt.scatter(y_test2, y_pred_gbdt2)\n",
    "plt.xlabel(\"Prices: $y_i$\")\n",
    "plt.ylabel(\"Prices: $\\hat{y}_i$\")\n",
    "plt.title(\"Prices vs Predicted prices: $y_i$ vs $\\hat{y}_i$\")"
   ]
  },
  {
   "cell_type": "code",
   "execution_count": 64,
   "metadata": {},
   "outputs": [
    {
     "data": {
      "image/png": "[encoded data removed]",
      "text/plain": [
       "<Figure size 432x288 with 1 Axes>"
      ]
     },
     "metadata": {},
     "output_type": "display_data"
    },
    {
     "data": {
      "image/png": "[encoded data removed]",
      "text/plain": [
       "<Figure size 432x288 with 1 Axes>"
      ]
     },
     "metadata": {},
     "output_type": "display_data"
    }
   ],
   "source": [
    "sns.set_style('whitegrid')\n",
    "sns.kdeplot(np.array(y_test2))\n",
    "plt.show()\n",
    "\n",
    "sns.kdeplot(np.array(y_pred_gbdt2),bw_method=0.5)\n",
    "plt.show()"
   ]
  },
  {
   "cell_type": "markdown",
   "metadata": {},
   "source": [
    "RANDOM FOREST"
   ]
  },
  {
   "cell_type": "code",
   "execution_count": 65,
   "metadata": {},
   "outputs": [
    {
     "data": {
      "text/plain": [
       "RandomForestRegressor(random_state=23)"
      ]
     },
     "execution_count": 65,
     "metadata": {},
     "output_type": "execute_result"
    }
   ],
   "source": [
    "regressor_rf = RandomForestRegressor(random_state = 23)\n",
    "regressor_rf.fit(x_train2, y_train2)"
   ]
  },
  {
   "cell_type": "code",
   "execution_count": 66,
   "metadata": {},
   "outputs": [],
   "source": [
    "y_pred_rf2 = regressor_rf.predict(x_test2)"
   ]
  },
  {
   "cell_type": "code",
   "execution_count": 67,
   "metadata": {},
   "outputs": [
    {
     "data": {
      "text/plain": [
       "array([185029.5 , 116772.5 , 135008.  , 380837.06, 160939.79, 116611.5 ,\n",
       "       274992.95, 142894.  , 190079.5 , 159944.34, 385569.25, 233539.5 ,\n",
       "       309383.58, 142911.25, 224808.8 , 149474.  , 447721.76, 185466.  ,\n",
       "       250123.54,  93767.71, 161024.48, 164987.  , 130028.  , 128960.  ,\n",
       "       178057.  , 163011.  , 184967.  , 115060.  , 215085.  , 167337.6 ,\n",
       "       140025.  , 230032.48, 154978.  , 140021.  , 136024.5 , 309522.93,\n",
       "       239777.89, 153378.96, 120302.5 , 248419.16, 108419.33, 266208.74,\n",
       "        75547.  ,  51268.  , 377215.26, 154973.4 , 124466.  , 193373.  ,\n",
       "       349547.07, 155046.1 , 173933.93, 314987.85, 183919.5 ,  59260.  ,\n",
       "       156989.4 , 119546.5 ,  54458.  , 224244.8 , 100260.76, 136501.5 ,\n",
       "        86769.  , 122915.  , 192100.  , 250090.76, 167901.2 , 184074.  ,\n",
       "       192656.  , 229971.92, 181029.4 , 139949.  , 107793.26, 112050.  ,\n",
       "       157808.96, 131891.5 , 227003.96, 124996.  , 175986.32, 157875.32,\n",
       "       139899.  , 212850.  , 372689.  , 112865.  , 197421.  , 223496.  ,\n",
       "       155039.45, 623126.22, 139936.  , 189090.5 , 138800.22, 179034.1 ,\n",
       "       127030.  , 115010.5 , 319550.59, 151429.37, 195945.  , 138846.96,\n",
       "       224865.8 , 162845.  , 125047.  , 155063.  , 109972.58,  94349.  ,\n",
       "       183561.  , 214966.74, 194008.  , 289693.11, 226027.2 , 153636.48,\n",
       "       285236.5 , 120055.  , 176018.68, 185943.5 , 187109.  , 104219.08,\n",
       "       253361.12, 163789.  , 187397.  , 142955.  , 144999.5 , 178899.65,\n",
       "       194324.  , 165501.5 ,  75663.  , 169765.  , 234522.6 , 151944.74,\n",
       "       202637.5 , 281110.81, 447215.84,  86788.71, 116067.5 , 154266.11,\n",
       "       424927.16, 169990.  , 147246.  , 161979.  ,  99930.76, 314936.54,\n",
       "       165257.  , 115046.  , 132504.  , 301857.5 , 207443.  , 115066.5 ,\n",
       "       316319.44, 241673.5 , 137516.  ,  80363.  , 193958.  , 110042.58,\n",
       "       159985.18, 178033.4 , 172591.  , 149547.  , 455332.68, 395212.05,\n",
       "       184000.5 , 318404.5 , 147985.  , 194903.  , 143555.  , 186932.  ,\n",
       "       232229.2 , 260309.49, 155908.83, 143772.08, 101883.16, 162973.  ,\n",
       "       149915.  , 194342.  , 172492.5 , 319686.24, 118235.  , 146985.  ,\n",
       "       163963.5 , 162085.  , 194333.  , 131796.5 , 116646.5 , 209990.  ,\n",
       "       186731.  , 227882.36, 165509.9 , 115060.5 , 144980.02, 103179.  ,\n",
       "       239787.97, 141056.25, 215095.37, 157716.24, 136881.5 , 209771.  ,\n",
       "       269998.28, 153842.74, 179977.35, 193263.  , 207435.5 , 151308.  ,\n",
       "       122173.  ,  79532.  , 136558.5 , 171903.5 , 170120.  , 259316.8 ,\n",
       "       155023.72, 337092.5 , 140016.  , 125537.  , 294531.25,  85775.  ,\n",
       "       112082.5 , 119018.  , 151301.  , 190028.  , 125973.  , 232319.96,\n",
       "       189127.5 , 140016.  , 236577.3 , 117826.  , 175956.64, 129600.  ,\n",
       "       235146.  , 131057.5 , 165053.  , 266199.26, 324736.68, 220807.1 ,\n",
       "       269248.3 , 176905.74, 120398.  , 179981.95, 129992.  ,  60744.  ,\n",
       "       220987.6 , 197368.  , 119965.  , 192324.  , 256198.44, 143931.5 ,\n",
       "       252153.04,  57894.  , 184854.  ,  91041.71, 128895.  , 124928.  ,\n",
       "       139988.  , 184935.5 , 285378.56, 122835.  , 264377.9 , 157478.64,\n",
       "       275010.8 , 157074.27, 319369.12, 123955.  , 204696.  , 275299.68,\n",
       "       153853.11, 105441.52, 151282.11, 289341.31,  85165.  , 135939.5 ,\n",
       "       128946.  , 187706.5 , 105637.76, 159992.18, 109941.25, 105591.76,\n",
       "       155063.15,  91146.05, 212979.  , 100130.  , 142935.  , 123990.  ,\n",
       "       116665.  ,  89461.75,  51134.  , 159962.24, 179897.3 , 209779.  ,\n",
       "       125040.  , 117811.5 , 302250.56, 112222.5 , 204736.5 , 126995.  ,\n",
       "       294276.52, 128095.  , 339989.96,  54056.  , 124498.  , 176973.63,\n",
       "       162860.  , 151878.74, 318299.11, 125762.  , 136885.  ,  52885.  ,\n",
       "       163891.5 , 118112.5 , 200552.44, 325302.16, 145003.  , 176007.3 ,\n",
       "       138983.35, 216739.62, 142908.25, 235036.7 , 149896.  , 131903.  ,\n",
       "       189143.  , 139265.  , 119090.5 , 277624.51, 119051.5 , 110225.58,\n",
       "       189995.  , 208762.5 , 199969.75, 250135.72, 147025.  , 586704.11,\n",
       "       136939.  , 172630.  ,  85413.  , 144918.02, 187537.  , 239864.98,\n",
       "       216845.94, 186705.5 , 185571.5 , 225942.  , 154944.7 , 280685.02,\n",
       "       149962.  , 149121.  , 185004.5 , 142906.5 , 235052.7 , 192640.  ,\n",
       "       159986.27, 226126.4 , 185170.  , 158665.32, 173483.13, 213448.  ,\n",
       "       242232.49, 284108.04, 145017.5 , 215043.11, 134555.  , 100077.76,\n",
       "       124981.  ,  80244.  ,  90947.81, 199960.59, 110119.17,  90660.05,\n",
       "       180353.34, 239791.92, 294095.8 , 190879.5 , 144976.52, 374047.91,\n",
       "       129548.  , 376057.55, 115121.5 , 153517.96, 304412.24, 136080.  ,\n",
       "       175045.  , 203096.25, 134978.  , 173004.33, 148580.  , 130018.  ,\n",
       "       202700.19, 119064.5 , 168324.8 , 222200.  , 156685.28, 231494.98,\n",
       "        91150.76, 112755.  , 130397.  , 118160.5 , 149798.  , 207205.5 ,\n",
       "       215055.74, 103184.64, 180413.99, 105084.76, 109986.5 , 128827.  ,\n",
       "       121941.  , 137831.87, 109965.34, 262943.74, 101912.44, 325224.04,\n",
       "       290054.62, 224622.8 , 128873.  , 115080.5 , 174974.33, 136508.5 ,\n",
       "       267342.64, 402374.57, 145016.02, 217901.18, 133054.  , 219422.6 ,\n",
       "       164927.4 , 118140.  , 178107.05, 181111.04, 110012.17,  79790.  ,\n",
       "       151898.37, 188347.5 , 153511.22, 142148.  , 271172.19, 487267.85,\n",
       "       263288.61, 109983.08, 155918.44, 207451.  , 155077.1 , 127077.  ,\n",
       "       166830.6 , 111947.5 , 189137.  , 266617.93, 176035.47, 216086.28,\n",
       "       562263.04, 213876.  , 243872.84,  79377.  ,  97835.76, 143982.56,\n",
       "       214060.  , 255075.56, 151261.11, 400488.37, 128985.  , 151818.74,\n",
       "       109878.5 ,  57235.  , 244310.99, 131035.  , 162193.  , 104945.04,\n",
       "       255811.78, 151411.37, 138988.87, 192175.  , 172966.33, 132463.  ,\n",
       "       100134.8 , 149658.  , 131906.  , 116683.  , 285905.76, 173931.31,\n",
       "       170870.  , 434146.11, 125083.  , 123853.  , 181683.2 , 128010.  ,\n",
       "       202933.03, 210033.  ,  89089.94, 136860.  , 180382.02, 119588.  ,\n",
       "       200001.64, 164950.4 , 178007.8 , 169785.  , 286490.22, 181008.14,\n",
       "       340739.96, 187122.  , 175945.64, 139995.  , 228705.92, 169440.  ,\n",
       "        86763.  , 174914.  , 260099.98, 219542.1 , 147922.  , 143989.  ])"
      ]
     },
     "execution_count": 67,
     "metadata": {},
     "output_type": "execute_result"
    }
   ],
   "source": [
    "y_pred_rf2 "
   ]
  },
  {
   "cell_type": "code",
   "execution_count": 68,
   "metadata": {},
   "outputs": [
    {
     "data": {
      "text/plain": [
       "2505.5648294351527"
      ]
     },
     "execution_count": 68,
     "metadata": {},
     "output_type": "execute_result"
    }
   ],
   "source": [
    "mse = mean_squared_error(y_test2, y_pred_rf2)\n",
    "sqrt(mse)"
   ]
  },
  {
   "cell_type": "code",
   "execution_count": 69,
   "metadata": {},
   "outputs": [
    {
     "data": {
      "text/plain": [
       "Text(0.5, 1.0, 'Prices vs Predicted prices: $y_i$ vs $\\\\hat{y}_i$')"
      ]
     },
     "execution_count": 69,
     "metadata": {},
     "output_type": "execute_result"
    },
    {
     "data": {
      "image/png": "[encoded data removed]",
      "text/plain": [
       "<Figure size 432x288 with 1 Axes>"
      ]
     },
     "metadata": {},
     "output_type": "display_data"
    }
   ],
   "source": [
    "plt.scatter(y_test2, y_pred_rf2)\n",
    "plt.xlabel(\"Prices: $y_i$\")\n",
    "plt.ylabel(\"Prices: $\\hat{y}_i$\")\n",
    "plt.title(\"Prices vs Predicted prices: $y_i$ vs $\\hat{y}_i$\")"
   ]
  },
  {
   "cell_type": "code",
   "execution_count": 70,
   "metadata": {},
   "outputs": [
    {
     "data": {
      "image/png": "[encoded data removed]",
      "text/plain": [
       "<Figure size 432x288 with 1 Axes>"
      ]
     },
     "metadata": {},
     "output_type": "display_data"
    },
    {
     "data": {
      "image/png": "[encoded data removed]",
      "text/plain": [
       "<Figure size 432x288 with 1 Axes>"
      ]
     },
     "metadata": {},
     "output_type": "display_data"
    }
   ],
   "source": [
    "sns.set_style('whitegrid')\n",
    "sns.kdeplot(np.array(y_test))\n",
    "plt.show()\n",
    "\n",
    "sns.kdeplot(np.array(y_pred_rf), bw_method=0.5)\n",
    "plt.show()"
   ]
  },
  {
   "cell_type": "markdown",
   "metadata": {},
   "source": [
    "FEATURE EXTRACTION"
   ]
  },
  {
   "cell_type": "code",
   "execution_count": 3,
   "metadata": {},
   "outputs": [
    {
     "ename": "NameError",
     "evalue": "name 'df' is not defined",
     "output_type": "error",
     "traceback": [
      "\u001b[1;31m---------------------------------------------------------------------------\u001b[0m",
      "\u001b[1;31mNameError\u001b[0m                                 Traceback (most recent call last)",
      "\u001b[1;32m<ipython-input-3-a7320df5d5ce>\u001b[0m in \u001b[0;36m<module>\u001b[1;34m\u001b[0m\n\u001b[1;32m----> 1\u001b[1;33m \u001b[0mshrink\u001b[0m \u001b[1;33m=\u001b[0m \u001b[0mdf\u001b[0m\u001b[1;33m.\u001b[0m\u001b[0mcopy\u001b[0m\u001b[1;33m(\u001b[0m\u001b[1;33m)\u001b[0m\u001b[1;33m\u001b[0m\u001b[1;33m\u001b[0m\u001b[0m\n\u001b[0m",
      "\u001b[1;31mNameError\u001b[0m: name 'df' is not defined"
     ]
    }
   ],
   "source": [
    "shrink = df.copy()"
   ]
  },
  {
   "cell_type": "code",
   "execution_count": 2,
   "metadata": {},
   "outputs": [
    {
     "ename": "NameError",
     "evalue": "name 'shrink' is not defined",
     "output_type": "error",
     "traceback": [
      "\u001b[1;31m---------------------------------------------------------------------------\u001b[0m",
      "\u001b[1;31mNameError\u001b[0m                                 Traceback (most recent call last)",
      "\u001b[1;32m<ipython-input-2-278e7a146225>\u001b[0m in \u001b[0;36m<module>\u001b[1;34m\u001b[0m\n\u001b[0;32m      1\u001b[0m \u001b[0mcols\u001b[0m \u001b[1;33m=\u001b[0m \u001b[1;33m[\u001b[0m\u001b[1;34m\"LotArea\"\u001b[0m\u001b[1;33m,\u001b[0m \u001b[1;34m\"BedroomAbvGr\"\u001b[0m\u001b[1;33m,\u001b[0m \u001b[1;34m\"FullBath\"\u001b[0m\u001b[1;33m,\u001b[0m \u001b[1;34m\"MSSubClass\"\u001b[0m\u001b[1;33m,\u001b[0m \u001b[1;34m\"PavedDrive\"\u001b[0m\u001b[1;33m,\u001b[0m \u001b[1;34m\"PoolArea\"\u001b[0m\u001b[1;33m,\u001b[0m \u001b[1;34m\"PoolQC\"\u001b[0m\u001b[1;33m,\u001b[0m \u001b[1;34m\"BsmtQual\"\u001b[0m\u001b[1;33m,\u001b[0m \u001b[1;34m\"Heating\"\u001b[0m\u001b[1;33m,\u001b[0m \u001b[1;34m\"CentralAir\"\u001b[0m\u001b[1;33m,\u001b[0m \u001b[1;34m\"MSZoning\"\u001b[0m\u001b[1;33m,\u001b[0m \u001b[1;34m\"GarageCars\"\u001b[0m\u001b[1;33m]\u001b[0m\u001b[1;33m\u001b[0m\u001b[1;33m\u001b[0m\u001b[0m\n\u001b[0;32m      2\u001b[0m \u001b[1;33m\u001b[0m\u001b[0m\n\u001b[1;32m----> 3\u001b[1;33m \u001b[1;32mfor\u001b[0m \u001b[0mcol\u001b[0m \u001b[1;32min\u001b[0m \u001b[0mlist\u001b[0m\u001b[1;33m(\u001b[0m\u001b[0mshrink\u001b[0m\u001b[1;33m)\u001b[0m\u001b[1;33m:\u001b[0m\u001b[1;33m\u001b[0m\u001b[1;33m\u001b[0m\u001b[0m\n\u001b[0m\u001b[0;32m      4\u001b[0m     \u001b[1;32mif\u001b[0m \u001b[0mcol\u001b[0m \u001b[1;32mnot\u001b[0m \u001b[1;32min\u001b[0m \u001b[0mcols\u001b[0m\u001b[1;33m:\u001b[0m\u001b[1;33m\u001b[0m\u001b[1;33m\u001b[0m\u001b[0m\n\u001b[0;32m      5\u001b[0m         \u001b[0mshrink\u001b[0m\u001b[1;33m.\u001b[0m\u001b[0mdrop\u001b[0m\u001b[1;33m(\u001b[0m\u001b[1;33m[\u001b[0m\u001b[0mcol\u001b[0m\u001b[1;33m]\u001b[0m\u001b[1;33m,\u001b[0m \u001b[0maxis\u001b[0m\u001b[1;33m=\u001b[0m\u001b[1;36m1\u001b[0m\u001b[1;33m,\u001b[0m \u001b[0minplace\u001b[0m\u001b[1;33m=\u001b[0m\u001b[1;32mTrue\u001b[0m\u001b[1;33m)\u001b[0m\u001b[1;33m\u001b[0m\u001b[1;33m\u001b[0m\u001b[0m\n",
      "\u001b[1;31mNameError\u001b[0m: name 'shrink' is not defined"
     ]
    }
   ],
   "source": [
    "cols = [\"LotArea\", \"BedroomAbvGr\", \"FullBath\", \"MSSubClass\", \"PavedDrive\", \"PoolArea\", \"PoolQC\", \"BsmtQual\", \"Heating\", \"CentralAir\", \"MSZoning\", \"GarageCars\"]\n",
    "\n",
    "for col in list(shrink):\n",
    "    if col not in cols:\n",
    "        shrink.drop([col], axis=1, inplace=True)"
   ]
  },
  {
   "cell_type": "code",
   "execution_count": 73,
   "metadata": {},
   "outputs": [],
   "source": [
    "one = [20,30,40,45,50,120,150]\n",
    "two = [60,70,75,160]\n",
    "multi = [80,85,90,180,190]\n",
    "\n",
    "def stories_num(num):\n",
    "    if num in one:\n",
    "        return 'one'\n",
    "    elif num in two:\n",
    "        return 'two'\n",
    "    else:\n",
    "        return 'multi'"
   ]
  },
  {
   "cell_type": "code",
   "execution_count": 74,
   "metadata": {},
   "outputs": [],
   "source": [
    "buff = shrink['MSSubClass']\n",
    "stories = buff.map(stories_num)\n",
    "shrink['stories'] = stories\n",
    "del buff\n",
    "del stories\n",
    "shrink.drop(['MSSubClass'], axis=1, inplace=True)\n",
    "shrink['SalePrice'] = df['SalePrice']"
   ]
  },
  {
   "cell_type": "code",
   "execution_count": 75,
   "metadata": {},
   "outputs": [
    {
     "data": {
      "text/html": [
       "<div>\n",
       "<style scoped>\n",
       "    .dataframe tbody tr th:only-of-type {\n",
       "        vertical-align: middle;\n",
       "    }\n",
       "\n",
       "    .dataframe tbody tr th {\n",
       "        vertical-align: top;\n",
       "    }\n",
       "\n",
       "    .dataframe thead th {\n",
       "        text-align: right;\n",
       "    }\n",
       "</style>\n",
       "<table border=\"1\" class=\"dataframe\">\n",
       "  <thead>\n",
       "    <tr style=\"text-align: right;\">\n",
       "      <th></th>\n",
       "      <th>MSZoning</th>\n",
       "      <th>LotArea</th>\n",
       "      <th>BsmtQual</th>\n",
       "      <th>Heating</th>\n",
       "      <th>CentralAir</th>\n",
       "      <th>FullBath</th>\n",
       "      <th>BedroomAbvGr</th>\n",
       "      <th>GarageCars</th>\n",
       "      <th>PavedDrive</th>\n",
       "      <th>PoolArea</th>\n",
       "      <th>stories</th>\n",
       "      <th>SalePrice</th>\n",
       "    </tr>\n",
       "  </thead>\n",
       "  <tbody>\n",
       "    <tr>\n",
       "      <th>30</th>\n",
       "      <td>C (all)</td>\n",
       "      <td>8500</td>\n",
       "      <td>TA</td>\n",
       "      <td>GasA</td>\n",
       "      <td>N</td>\n",
       "      <td>1</td>\n",
       "      <td>3</td>\n",
       "      <td>1</td>\n",
       "      <td>N</td>\n",
       "      <td>0</td>\n",
       "      <td>two</td>\n",
       "      <td>40000</td>\n",
       "    </tr>\n",
       "    <tr>\n",
       "      <th>88</th>\n",
       "      <td>C (all)</td>\n",
       "      <td>8470</td>\n",
       "      <td>TA</td>\n",
       "      <td>GasA</td>\n",
       "      <td>N</td>\n",
       "      <td>1</td>\n",
       "      <td>2</td>\n",
       "      <td>0</td>\n",
       "      <td>N</td>\n",
       "      <td>0</td>\n",
       "      <td>one</td>\n",
       "      <td>85000</td>\n",
       "    </tr>\n",
       "    <tr>\n",
       "      <th>93</th>\n",
       "      <td>C (all)</td>\n",
       "      <td>7200</td>\n",
       "      <td>TA</td>\n",
       "      <td>GasW</td>\n",
       "      <td>N</td>\n",
       "      <td>2</td>\n",
       "      <td>4</td>\n",
       "      <td>2</td>\n",
       "      <td>Y</td>\n",
       "      <td>0</td>\n",
       "      <td>multi</td>\n",
       "      <td>133900</td>\n",
       "    </tr>\n",
       "    <tr>\n",
       "      <th>495</th>\n",
       "      <td>C (all)</td>\n",
       "      <td>7879</td>\n",
       "      <td>TA</td>\n",
       "      <td>GasA</td>\n",
       "      <td>N</td>\n",
       "      <td>1</td>\n",
       "      <td>2</td>\n",
       "      <td>0</td>\n",
       "      <td>N</td>\n",
       "      <td>0</td>\n",
       "      <td>one</td>\n",
       "      <td>34900</td>\n",
       "    </tr>\n",
       "    <tr>\n",
       "      <th>557</th>\n",
       "      <td>C (all)</td>\n",
       "      <td>11040</td>\n",
       "      <td>TA</td>\n",
       "      <td>GasA</td>\n",
       "      <td>Y</td>\n",
       "      <td>1</td>\n",
       "      <td>3</td>\n",
       "      <td>1</td>\n",
       "      <td>Y</td>\n",
       "      <td>0</td>\n",
       "      <td>one</td>\n",
       "      <td>108000</td>\n",
       "    </tr>\n",
       "    <tr>\n",
       "      <th>711</th>\n",
       "      <td>C (all)</td>\n",
       "      <td>8712</td>\n",
       "      <td>TA</td>\n",
       "      <td>GasA</td>\n",
       "      <td>Y</td>\n",
       "      <td>1</td>\n",
       "      <td>2</td>\n",
       "      <td>1</td>\n",
       "      <td>N</td>\n",
       "      <td>0</td>\n",
       "      <td>one</td>\n",
       "      <td>102776</td>\n",
       "    </tr>\n",
       "    <tr>\n",
       "      <th>812</th>\n",
       "      <td>C (all)</td>\n",
       "      <td>8712</td>\n",
       "      <td>TA</td>\n",
       "      <td>GasA</td>\n",
       "      <td>N</td>\n",
       "      <td>1</td>\n",
       "      <td>2</td>\n",
       "      <td>2</td>\n",
       "      <td>N</td>\n",
       "      <td>0</td>\n",
       "      <td>one</td>\n",
       "      <td>55993</td>\n",
       "    </tr>\n",
       "    <tr>\n",
       "      <th>916</th>\n",
       "      <td>C (all)</td>\n",
       "      <td>9000</td>\n",
       "      <td>TA</td>\n",
       "      <td>GasA</td>\n",
       "      <td>N</td>\n",
       "      <td>0</td>\n",
       "      <td>1</td>\n",
       "      <td>1</td>\n",
       "      <td>Y</td>\n",
       "      <td>0</td>\n",
       "      <td>one</td>\n",
       "      <td>35311</td>\n",
       "    </tr>\n",
       "    <tr>\n",
       "      <th>1061</th>\n",
       "      <td>C (all)</td>\n",
       "      <td>18000</td>\n",
       "      <td>TA</td>\n",
       "      <td>GasA</td>\n",
       "      <td>Y</td>\n",
       "      <td>1</td>\n",
       "      <td>2</td>\n",
       "      <td>3</td>\n",
       "      <td>Y</td>\n",
       "      <td>0</td>\n",
       "      <td>one</td>\n",
       "      <td>81000</td>\n",
       "    </tr>\n",
       "    <tr>\n",
       "      <th>1279</th>\n",
       "      <td>C (all)</td>\n",
       "      <td>7500</td>\n",
       "      <td>TA</td>\n",
       "      <td>GasA</td>\n",
       "      <td>Y</td>\n",
       "      <td>1</td>\n",
       "      <td>2</td>\n",
       "      <td>2</td>\n",
       "      <td>Y</td>\n",
       "      <td>0</td>\n",
       "      <td>one</td>\n",
       "      <td>68400</td>\n",
       "    </tr>\n",
       "  </tbody>\n",
       "</table>\n",
       "</div>"
      ],
      "text/plain": [
       "     MSZoning  LotArea BsmtQual Heating CentralAir  FullBath  BedroomAbvGr  \\\n",
       "30    C (all)     8500       TA    GasA          N         1             3   \n",
       "88    C (all)     8470       TA    GasA          N         1             2   \n",
       "93    C (all)     7200       TA    GasW          N         2             4   \n",
       "495   C (all)     7879       TA    GasA          N         1             2   \n",
       "557   C (all)    11040       TA    GasA          Y         1             3   \n",
       "711   C (all)     8712       TA    GasA          Y         1             2   \n",
       "812   C (all)     8712       TA    GasA          N         1             2   \n",
       "916   C (all)     9000       TA    GasA          N         0             1   \n",
       "1061  C (all)    18000       TA    GasA          Y         1             2   \n",
       "1279  C (all)     7500       TA    GasA          Y         1             2   \n",
       "\n",
       "      GarageCars PavedDrive  PoolArea stories  SalePrice  \n",
       "30             1          N         0     two      40000  \n",
       "88             0          N         0     one      85000  \n",
       "93             2          Y         0   multi     133900  \n",
       "495            0          N         0     one      34900  \n",
       "557            1          Y         0     one     108000  \n",
       "711            1          N         0     one     102776  \n",
       "812            2          N         0     one      55993  \n",
       "916            1          Y         0     one      35311  \n",
       "1061           3          Y         0     one      81000  \n",
       "1279           2          Y         0     one      68400  "
      ]
     },
     "execution_count": 75,
     "metadata": {},
     "output_type": "execute_result"
    }
   ],
   "source": [
    "shrink[shrink['MSZoning'] == 'C (all)']"
   ]
  },
  {
   "cell_type": "code",
   "execution_count": 76,
   "metadata": {},
   "outputs": [
    {
     "data": {
      "text/plain": [
       "RL         1118\n",
       "RM          214\n",
       "FV           65\n",
       "RH           15\n",
       "C (all)      10\n",
       "Name: MSZoning, dtype: int64"
      ]
     },
     "execution_count": 76,
     "metadata": {},
     "output_type": "execute_result"
    }
   ],
   "source": [
    "shrink['MSZoning'].value_counts()"
   ]
  },
  {
   "cell_type": "code",
   "execution_count": 77,
   "metadata": {},
   "outputs": [],
   "source": [
    "rl = list(shrink[shrink['MSZoning'] == 'RL'].SalePrice.values)\n",
    "rm = list(shrink[shrink['MSZoning'] == 'RM'].SalePrice.values)\n",
    "fv = list(shrink[shrink['MSZoning'] == 'FV'].SalePrice.values)\n",
    "rh = list(shrink[shrink['MSZoning'] == 'RH'].SalePrice.values)\n",
    "c = list(shrink[shrink['MSZoning'] == 'C (all)'].SalePrice.values)\n",
    "rl = np.array(rl)\n",
    "rm = np.array(rm)\n",
    "fv = np.array(fv)\n",
    "rh = np.array(rh)\n",
    "c = np.array(c)"
   ]
  },
  {
   "cell_type": "code",
   "execution_count": 78,
   "metadata": {},
   "outputs": [
    {
     "name": "stdout",
     "output_type": "stream",
     "text": [
      "193433.44543828265\n",
      "127068.07943925234\n",
      "214014.06153846154\n",
      "130728.93333333333\n",
      "74528.0\n"
     ]
    }
   ],
   "source": [
    "print(rl.mean())\n",
    "print(rm.mean())\n",
    "print(fv.mean())\n",
    "print(rh.mean())\n",
    "print(c.mean())"
   ]
  },
  {
   "cell_type": "code",
   "execution_count": 79,
   "metadata": {},
   "outputs": [],
   "source": [
    "def area(x):\n",
    "    if x == 'RH':\n",
    "        return 'RM'\n",
    "    elif x == 'RL':\n",
    "        return 'RL'\n",
    "    elif x == 'FV':\n",
    "        return 'FV'\n",
    "    elif x == 'C (all)':\n",
    "        return 'C'\n",
    "    \n",
    "area_col = shrink['MSZoning']\n",
    "temp = area_col.map(area)\n",
    "shrink['Area'] = temp\n",
    "del temp\n",
    "del area_col\n",
    "shrink.drop(['MSZoning'],axis=1, inplace=True)"
   ]
  },
  {
   "cell_type": "code",
   "execution_count": 80,
   "metadata": {},
   "outputs": [
    {
     "data": {
      "text/plain": [
       "RL    1118\n",
       "FV      65\n",
       "RM      15\n",
       "C       10\n",
       "Name: Area, dtype: int64"
      ]
     },
     "execution_count": 80,
     "metadata": {},
     "output_type": "execute_result"
    }
   ],
   "source": [
    "\n",
    "shrink[\"Area\"].value_counts()"
   ]
  },
  {
   "cell_type": "code",
   "execution_count": 83,
   "metadata": {},
   "outputs": [],
   "source": [
    "def is_pool(x):\n",
    "    if x == 0:\n",
    "        return 'no'\n",
    "    else:\n",
    "        return 'yes'\n",
    "    \n",
    "pool_col = shrink['PoolArea']\n",
    "temp = pool_col.map(is_pool)\n",
    "shrink['Pool'] = temp\n",
    "del pool_col\n",
    "del temp\n",
    "shrink.drop(['PoolArea'], axis =1, inplace = True)"
   ]
  },
  {
   "cell_type": "code",
   "execution_count": 84,
   "metadata": {},
   "outputs": [],
   "source": [
    "def pavement(x):\n",
    "    if x == 'Y':\n",
    "        return 'Y'\n",
    "    elif x == 'N':\n",
    "        return 'N'\n",
    "    elif x == 'P':\n",
    "        return 'Y'\n",
    "    \n",
    "pave_col = shrink['PavedDrive']\n",
    "temp = pave_col.map(pavement)\n",
    "shrink['Pavement'] = temp\n",
    "del pave_col\n",
    "del temp\n",
    "shrink.drop(['PavedDrive'], axis =1, inplace = True)"
   ]
  },
  {
   "cell_type": "code",
   "execution_count": 85,
   "metadata": {},
   "outputs": [
    {
     "data": {
      "text/plain": [
       "TA    649\n",
       "Gd    617\n",
       "Ex    121\n",
       "Fa     35\n",
       "Name: BsmtQual, dtype: int64"
      ]
     },
     "execution_count": 85,
     "metadata": {},
     "output_type": "execute_result"
    }
   ],
   "source": [
    "shrink.BsmtQual.value_counts()"
   ]
  },
  {
   "cell_type": "code",
   "execution_count": 86,
   "metadata": {},
   "outputs": [
    {
     "name": "stdout",
     "output_type": "stream",
     "text": [
      "115692.02857142857\n",
      "140759.81818181818\n",
      "202745.51053484602\n",
      "327041.04132231406\n"
     ]
    }
   ],
   "source": [
    "ta = list(shrink[shrink['BsmtQual'] == 'TA'].SalePrice.values)\n",
    "gd = list(shrink[shrink['BsmtQual'] == 'Gd'].SalePrice.values)\n",
    "ex = list(shrink[shrink['BsmtQual'] == 'Ex'].SalePrice.values)\n",
    "fa = list(shrink[shrink['BsmtQual'] == 'Fa'].SalePrice.values)\n",
    "\n",
    "ta = np.array(ta)\n",
    "gd = np.array(gd)\n",
    "ex = np.array(ex)\n",
    "fa = np.array(fa)\n",
    "\n",
    "print(fa.mean())\n",
    "print(ta.mean())\n",
    "print(gd.mean())\n",
    "print(ex.mean())"
   ]
  },
  {
   "cell_type": "code",
   "execution_count": 87,
   "metadata": {},
   "outputs": [],
   "source": [
    "def base_qual(x):\n",
    "    if x == 'Fa':\n",
    "        return '1'\n",
    "    elif x == 'TA':\n",
    "        return '2'\n",
    "    elif x == 'Gd':\n",
    "        return '3'\n",
    "    else:\n",
    "        return '4'\n",
    "    \n",
    "base_col = shrink['BsmtQual']\n",
    "temp = base_col.map(base_qual)\n",
    "shrink['Basement'] = temp\n",
    "del base_col\n",
    "del temp\n",
    "shrink.drop(['BsmtQual'], axis =1, inplace = True)"
   ]
  },
  {
   "cell_type": "code",
   "execution_count": 88,
   "metadata": {},
   "outputs": [],
   "source": [
    "shrink['Basement'] = shrink['Basement'].astype(int)"
   ]
  },
  {
   "cell_type": "code",
   "execution_count": 89,
   "metadata": {},
   "outputs": [],
   "source": [
    "def story(x):\n",
    "    if x == 'one':\n",
    "        return '1'\n",
    "    elif x == 'two':\n",
    "        return '2'\n",
    "    elif x == 'multi':\n",
    "        return '3'\n",
    "    \n",
    "story_col = shrink['stories']\n",
    "temp = story_col.map(story)\n",
    "shrink['Stories'] = temp\n",
    "del story_col\n",
    "del temp\n",
    "shrink.drop(['stories'], axis =1, inplace = True)"
   ]
  },
  {
   "cell_type": "code",
   "execution_count": 90,
   "metadata": {},
   "outputs": [
    {
     "data": {
      "text/plain": [
       "Y    1341\n",
       "N      81\n",
       "Name: CentralAir, dtype: int64"
      ]
     },
     "execution_count": 90,
     "metadata": {},
     "output_type": "execute_result"
    }
   ],
   "source": [
    "shrink.CentralAir.value_counts()"
   ]
  },
  {
   "cell_type": "code",
   "execution_count": 91,
   "metadata": {},
   "outputs": [
    {
     "data": {
      "text/html": [
       "<div>\n",
       "<style scoped>\n",
       "    .dataframe tbody tr th:only-of-type {\n",
       "        vertical-align: middle;\n",
       "    }\n",
       "\n",
       "    .dataframe tbody tr th {\n",
       "        vertical-align: top;\n",
       "    }\n",
       "\n",
       "    .dataframe thead th {\n",
       "        text-align: right;\n",
       "    }\n",
       "</style>\n",
       "<table border=\"1\" class=\"dataframe\">\n",
       "  <thead>\n",
       "    <tr style=\"text-align: right;\">\n",
       "      <th></th>\n",
       "      <th>LotArea</th>\n",
       "      <th>Heating</th>\n",
       "      <th>CentralAir</th>\n",
       "      <th>FullBath</th>\n",
       "      <th>BedroomAbvGr</th>\n",
       "      <th>GarageCars</th>\n",
       "      <th>SalePrice</th>\n",
       "      <th>Area</th>\n",
       "      <th>Pool</th>\n",
       "      <th>Pavement</th>\n",
       "      <th>Basement</th>\n",
       "      <th>Stories</th>\n",
       "    </tr>\n",
       "  </thead>\n",
       "  <tbody>\n",
       "    <tr>\n",
       "      <th>0</th>\n",
       "      <td>8450</td>\n",
       "      <td>GasA</td>\n",
       "      <td>Y</td>\n",
       "      <td>2</td>\n",
       "      <td>3</td>\n",
       "      <td>2</td>\n",
       "      <td>208500</td>\n",
       "      <td>RL</td>\n",
       "      <td>no</td>\n",
       "      <td>Y</td>\n",
       "      <td>3</td>\n",
       "      <td>2</td>\n",
       "    </tr>\n",
       "    <tr>\n",
       "      <th>1</th>\n",
       "      <td>9600</td>\n",
       "      <td>GasA</td>\n",
       "      <td>Y</td>\n",
       "      <td>2</td>\n",
       "      <td>3</td>\n",
       "      <td>2</td>\n",
       "      <td>181500</td>\n",
       "      <td>RL</td>\n",
       "      <td>no</td>\n",
       "      <td>Y</td>\n",
       "      <td>3</td>\n",
       "      <td>1</td>\n",
       "    </tr>\n",
       "    <tr>\n",
       "      <th>2</th>\n",
       "      <td>11250</td>\n",
       "      <td>GasA</td>\n",
       "      <td>Y</td>\n",
       "      <td>2</td>\n",
       "      <td>3</td>\n",
       "      <td>2</td>\n",
       "      <td>223500</td>\n",
       "      <td>RL</td>\n",
       "      <td>no</td>\n",
       "      <td>Y</td>\n",
       "      <td>3</td>\n",
       "      <td>2</td>\n",
       "    </tr>\n",
       "    <tr>\n",
       "      <th>3</th>\n",
       "      <td>9550</td>\n",
       "      <td>GasA</td>\n",
       "      <td>Y</td>\n",
       "      <td>1</td>\n",
       "      <td>3</td>\n",
       "      <td>3</td>\n",
       "      <td>140000</td>\n",
       "      <td>RL</td>\n",
       "      <td>no</td>\n",
       "      <td>Y</td>\n",
       "      <td>2</td>\n",
       "      <td>2</td>\n",
       "    </tr>\n",
       "    <tr>\n",
       "      <th>4</th>\n",
       "      <td>14260</td>\n",
       "      <td>GasA</td>\n",
       "      <td>Y</td>\n",
       "      <td>2</td>\n",
       "      <td>4</td>\n",
       "      <td>3</td>\n",
       "      <td>250000</td>\n",
       "      <td>RL</td>\n",
       "      <td>no</td>\n",
       "      <td>Y</td>\n",
       "      <td>3</td>\n",
       "      <td>2</td>\n",
       "    </tr>\n",
       "  </tbody>\n",
       "</table>\n",
       "</div>"
      ],
      "text/plain": [
       "   LotArea Heating CentralAir  FullBath  BedroomAbvGr  GarageCars  SalePrice  \\\n",
       "0     8450    GasA          Y         2             3           2     208500   \n",
       "1     9600    GasA          Y         2             3           2     181500   \n",
       "2    11250    GasA          Y         2             3           2     223500   \n",
       "3     9550    GasA          Y         1             3           3     140000   \n",
       "4    14260    GasA          Y         2             4           3     250000   \n",
       "\n",
       "  Area Pool Pavement  Basement Stories  \n",
       "0   RL   no        Y         3       2  \n",
       "1   RL   no        Y         3       1  \n",
       "2   RL   no        Y         3       2  \n",
       "3   RL   no        Y         2       2  \n",
       "4   RL   no        Y         3       2  "
      ]
     },
     "execution_count": 91,
     "metadata": {},
     "output_type": "execute_result"
    }
   ],
   "source": [
    "shrink.head()"
   ]
  },
  {
   "cell_type": "code",
   "execution_count": 92,
   "metadata": {},
   "outputs": [],
   "source": [
    "cleansed = shrink.copy()"
   ]
  },
  {
   "cell_type": "code",
   "execution_count": 93,
   "metadata": {},
   "outputs": [
    {
     "data": {
      "text/html": [
       "<div>\n",
       "<style scoped>\n",
       "    .dataframe tbody tr th:only-of-type {\n",
       "        vertical-align: middle;\n",
       "    }\n",
       "\n",
       "    .dataframe tbody tr th {\n",
       "        vertical-align: top;\n",
       "    }\n",
       "\n",
       "    .dataframe thead th {\n",
       "        text-align: right;\n",
       "    }\n",
       "</style>\n",
       "<table border=\"1\" class=\"dataframe\">\n",
       "  <thead>\n",
       "    <tr style=\"text-align: right;\">\n",
       "      <th></th>\n",
       "      <th>LotArea</th>\n",
       "      <th>Heating</th>\n",
       "      <th>CentralAir</th>\n",
       "      <th>FullBath</th>\n",
       "      <th>BedroomAbvGr</th>\n",
       "      <th>GarageCars</th>\n",
       "      <th>SalePrice</th>\n",
       "      <th>Area</th>\n",
       "      <th>Pool</th>\n",
       "      <th>Pavement</th>\n",
       "      <th>Basement</th>\n",
       "      <th>Stories</th>\n",
       "    </tr>\n",
       "  </thead>\n",
       "  <tbody>\n",
       "    <tr>\n",
       "      <th>0</th>\n",
       "      <td>8450</td>\n",
       "      <td>GasA</td>\n",
       "      <td>Y</td>\n",
       "      <td>2</td>\n",
       "      <td>3</td>\n",
       "      <td>2</td>\n",
       "      <td>208500</td>\n",
       "      <td>RL</td>\n",
       "      <td>no</td>\n",
       "      <td>Y</td>\n",
       "      <td>3</td>\n",
       "      <td>2</td>\n",
       "    </tr>\n",
       "    <tr>\n",
       "      <th>1</th>\n",
       "      <td>9600</td>\n",
       "      <td>GasA</td>\n",
       "      <td>Y</td>\n",
       "      <td>2</td>\n",
       "      <td>3</td>\n",
       "      <td>2</td>\n",
       "      <td>181500</td>\n",
       "      <td>RL</td>\n",
       "      <td>no</td>\n",
       "      <td>Y</td>\n",
       "      <td>3</td>\n",
       "      <td>1</td>\n",
       "    </tr>\n",
       "    <tr>\n",
       "      <th>2</th>\n",
       "      <td>11250</td>\n",
       "      <td>GasA</td>\n",
       "      <td>Y</td>\n",
       "      <td>2</td>\n",
       "      <td>3</td>\n",
       "      <td>2</td>\n",
       "      <td>223500</td>\n",
       "      <td>RL</td>\n",
       "      <td>no</td>\n",
       "      <td>Y</td>\n",
       "      <td>3</td>\n",
       "      <td>2</td>\n",
       "    </tr>\n",
       "    <tr>\n",
       "      <th>3</th>\n",
       "      <td>9550</td>\n",
       "      <td>GasA</td>\n",
       "      <td>Y</td>\n",
       "      <td>1</td>\n",
       "      <td>3</td>\n",
       "      <td>3</td>\n",
       "      <td>140000</td>\n",
       "      <td>RL</td>\n",
       "      <td>no</td>\n",
       "      <td>Y</td>\n",
       "      <td>2</td>\n",
       "      <td>2</td>\n",
       "    </tr>\n",
       "    <tr>\n",
       "      <th>4</th>\n",
       "      <td>14260</td>\n",
       "      <td>GasA</td>\n",
       "      <td>Y</td>\n",
       "      <td>2</td>\n",
       "      <td>4</td>\n",
       "      <td>3</td>\n",
       "      <td>250000</td>\n",
       "      <td>RL</td>\n",
       "      <td>no</td>\n",
       "      <td>Y</td>\n",
       "      <td>3</td>\n",
       "      <td>2</td>\n",
       "    </tr>\n",
       "    <tr>\n",
       "      <th>...</th>\n",
       "      <td>...</td>\n",
       "      <td>...</td>\n",
       "      <td>...</td>\n",
       "      <td>...</td>\n",
       "      <td>...</td>\n",
       "      <td>...</td>\n",
       "      <td>...</td>\n",
       "      <td>...</td>\n",
       "      <td>...</td>\n",
       "      <td>...</td>\n",
       "      <td>...</td>\n",
       "      <td>...</td>\n",
       "    </tr>\n",
       "    <tr>\n",
       "      <th>1455</th>\n",
       "      <td>7917</td>\n",
       "      <td>GasA</td>\n",
       "      <td>Y</td>\n",
       "      <td>2</td>\n",
       "      <td>3</td>\n",
       "      <td>2</td>\n",
       "      <td>175000</td>\n",
       "      <td>RL</td>\n",
       "      <td>no</td>\n",
       "      <td>Y</td>\n",
       "      <td>3</td>\n",
       "      <td>2</td>\n",
       "    </tr>\n",
       "    <tr>\n",
       "      <th>1456</th>\n",
       "      <td>13175</td>\n",
       "      <td>GasA</td>\n",
       "      <td>Y</td>\n",
       "      <td>2</td>\n",
       "      <td>3</td>\n",
       "      <td>2</td>\n",
       "      <td>210000</td>\n",
       "      <td>RL</td>\n",
       "      <td>no</td>\n",
       "      <td>Y</td>\n",
       "      <td>3</td>\n",
       "      <td>1</td>\n",
       "    </tr>\n",
       "    <tr>\n",
       "      <th>1457</th>\n",
       "      <td>9042</td>\n",
       "      <td>GasA</td>\n",
       "      <td>Y</td>\n",
       "      <td>2</td>\n",
       "      <td>4</td>\n",
       "      <td>1</td>\n",
       "      <td>266500</td>\n",
       "      <td>RL</td>\n",
       "      <td>no</td>\n",
       "      <td>Y</td>\n",
       "      <td>2</td>\n",
       "      <td>2</td>\n",
       "    </tr>\n",
       "    <tr>\n",
       "      <th>1458</th>\n",
       "      <td>9717</td>\n",
       "      <td>GasA</td>\n",
       "      <td>Y</td>\n",
       "      <td>1</td>\n",
       "      <td>2</td>\n",
       "      <td>1</td>\n",
       "      <td>142125</td>\n",
       "      <td>RL</td>\n",
       "      <td>no</td>\n",
       "      <td>Y</td>\n",
       "      <td>2</td>\n",
       "      <td>1</td>\n",
       "    </tr>\n",
       "    <tr>\n",
       "      <th>1459</th>\n",
       "      <td>9937</td>\n",
       "      <td>GasA</td>\n",
       "      <td>Y</td>\n",
       "      <td>1</td>\n",
       "      <td>3</td>\n",
       "      <td>1</td>\n",
       "      <td>147500</td>\n",
       "      <td>RL</td>\n",
       "      <td>no</td>\n",
       "      <td>Y</td>\n",
       "      <td>2</td>\n",
       "      <td>1</td>\n",
       "    </tr>\n",
       "  </tbody>\n",
       "</table>\n",
       "<p>1422 rows × 12 columns</p>\n",
       "</div>"
      ],
      "text/plain": [
       "      LotArea Heating CentralAir  FullBath  BedroomAbvGr  GarageCars  \\\n",
       "0        8450    GasA          Y         2             3           2   \n",
       "1        9600    GasA          Y         2             3           2   \n",
       "2       11250    GasA          Y         2             3           2   \n",
       "3        9550    GasA          Y         1             3           3   \n",
       "4       14260    GasA          Y         2             4           3   \n",
       "...       ...     ...        ...       ...           ...         ...   \n",
       "1455     7917    GasA          Y         2             3           2   \n",
       "1456    13175    GasA          Y         2             3           2   \n",
       "1457     9042    GasA          Y         2             4           1   \n",
       "1458     9717    GasA          Y         1             2           1   \n",
       "1459     9937    GasA          Y         1             3           1   \n",
       "\n",
       "      SalePrice Area Pool Pavement  Basement Stories  \n",
       "0        208500   RL   no        Y         3       2  \n",
       "1        181500   RL   no        Y         3       1  \n",
       "2        223500   RL   no        Y         3       2  \n",
       "3        140000   RL   no        Y         2       2  \n",
       "4        250000   RL   no        Y         3       2  \n",
       "...         ...  ...  ...      ...       ...     ...  \n",
       "1455     175000   RL   no        Y         3       2  \n",
       "1456     210000   RL   no        Y         3       1  \n",
       "1457     266500   RL   no        Y         2       2  \n",
       "1458     142125   RL   no        Y         2       1  \n",
       "1459     147500   RL   no        Y         2       1  \n",
       "\n",
       "[1422 rows x 12 columns]"
      ]
     },
     "execution_count": 93,
     "metadata": {},
     "output_type": "execute_result"
    }
   ],
   "source": [
    "cleansed"
   ]
  },
  {
   "cell_type": "code",
   "execution_count": null,
   "metadata": {},
   "outputs": [],
   "source": []
  },
  {
   "cell_type": "code",
   "execution_count": 94,
   "metadata": {},
   "outputs": [],
   "source": [
    "encoded = cleansed.copy()"
   ]
  },
  {
   "cell_type": "code",
   "execution_count": 95,
   "metadata": {},
   "outputs": [],
   "source": [
    "encoded['Pavement'] = np.where(encoded['Pavement'].str.contains(\"Y\"),1,0)\n",
    "encoded['CentralAir'] = np.where(encoded['CentralAir'].str.contains(\"Y\"),1,0)\n",
    "encoded['Pool'] = np.where(encoded['Pool'].str.contains(\"yes\"),1,0)"
   ]
  },
  {
   "cell_type": "code",
   "execution_count": 96,
   "metadata": {},
   "outputs": [
    {
     "data": {
      "text/html": [
       "<div>\n",
       "<style scoped>\n",
       "    .dataframe tbody tr th:only-of-type {\n",
       "        vertical-align: middle;\n",
       "    }\n",
       "\n",
       "    .dataframe tbody tr th {\n",
       "        vertical-align: top;\n",
       "    }\n",
       "\n",
       "    .dataframe thead th {\n",
       "        text-align: right;\n",
       "    }\n",
       "</style>\n",
       "<table border=\"1\" class=\"dataframe\">\n",
       "  <thead>\n",
       "    <tr style=\"text-align: right;\">\n",
       "      <th></th>\n",
       "      <th>LotArea</th>\n",
       "      <th>Heating</th>\n",
       "      <th>CentralAir</th>\n",
       "      <th>FullBath</th>\n",
       "      <th>BedroomAbvGr</th>\n",
       "      <th>GarageCars</th>\n",
       "      <th>SalePrice</th>\n",
       "      <th>Area</th>\n",
       "      <th>Pool</th>\n",
       "      <th>Pavement</th>\n",
       "      <th>Basement</th>\n",
       "      <th>Stories</th>\n",
       "    </tr>\n",
       "  </thead>\n",
       "  <tbody>\n",
       "    <tr>\n",
       "      <th>0</th>\n",
       "      <td>8450</td>\n",
       "      <td>GasA</td>\n",
       "      <td>1</td>\n",
       "      <td>2</td>\n",
       "      <td>3</td>\n",
       "      <td>2</td>\n",
       "      <td>208500</td>\n",
       "      <td>RL</td>\n",
       "      <td>0</td>\n",
       "      <td>1</td>\n",
       "      <td>3</td>\n",
       "      <td>2</td>\n",
       "    </tr>\n",
       "    <tr>\n",
       "      <th>1</th>\n",
       "      <td>9600</td>\n",
       "      <td>GasA</td>\n",
       "      <td>1</td>\n",
       "      <td>2</td>\n",
       "      <td>3</td>\n",
       "      <td>2</td>\n",
       "      <td>181500</td>\n",
       "      <td>RL</td>\n",
       "      <td>0</td>\n",
       "      <td>1</td>\n",
       "      <td>3</td>\n",
       "      <td>1</td>\n",
       "    </tr>\n",
       "    <tr>\n",
       "      <th>2</th>\n",
       "      <td>11250</td>\n",
       "      <td>GasA</td>\n",
       "      <td>1</td>\n",
       "      <td>2</td>\n",
       "      <td>3</td>\n",
       "      <td>2</td>\n",
       "      <td>223500</td>\n",
       "      <td>RL</td>\n",
       "      <td>0</td>\n",
       "      <td>1</td>\n",
       "      <td>3</td>\n",
       "      <td>2</td>\n",
       "    </tr>\n",
       "    <tr>\n",
       "      <th>3</th>\n",
       "      <td>9550</td>\n",
       "      <td>GasA</td>\n",
       "      <td>1</td>\n",
       "      <td>1</td>\n",
       "      <td>3</td>\n",
       "      <td>3</td>\n",
       "      <td>140000</td>\n",
       "      <td>RL</td>\n",
       "      <td>0</td>\n",
       "      <td>1</td>\n",
       "      <td>2</td>\n",
       "      <td>2</td>\n",
       "    </tr>\n",
       "    <tr>\n",
       "      <th>4</th>\n",
       "      <td>14260</td>\n",
       "      <td>GasA</td>\n",
       "      <td>1</td>\n",
       "      <td>2</td>\n",
       "      <td>4</td>\n",
       "      <td>3</td>\n",
       "      <td>250000</td>\n",
       "      <td>RL</td>\n",
       "      <td>0</td>\n",
       "      <td>1</td>\n",
       "      <td>3</td>\n",
       "      <td>2</td>\n",
       "    </tr>\n",
       "  </tbody>\n",
       "</table>\n",
       "</div>"
      ],
      "text/plain": [
       "   LotArea Heating  CentralAir  FullBath  BedroomAbvGr  GarageCars  SalePrice  \\\n",
       "0     8450    GasA           1         2             3           2     208500   \n",
       "1     9600    GasA           1         2             3           2     181500   \n",
       "2    11250    GasA           1         2             3           2     223500   \n",
       "3     9550    GasA           1         1             3           3     140000   \n",
       "4    14260    GasA           1         2             4           3     250000   \n",
       "\n",
       "  Area  Pool  Pavement  Basement Stories  \n",
       "0   RL     0         1         3       2  \n",
       "1   RL     0         1         3       1  \n",
       "2   RL     0         1         3       2  \n",
       "3   RL     0         1         2       2  \n",
       "4   RL     0         1         3       2  "
      ]
     },
     "execution_count": 96,
     "metadata": {},
     "output_type": "execute_result"
    }
   ],
   "source": [
    "encoded.head()"
   ]
  },
  {
   "cell_type": "code",
   "execution_count": 97,
   "metadata": {},
   "outputs": [
    {
     "data": {
      "text/html": [
       "<div>\n",
       "<style scoped>\n",
       "    .dataframe tbody tr th:only-of-type {\n",
       "        vertical-align: middle;\n",
       "    }\n",
       "\n",
       "    .dataframe tbody tr th {\n",
       "        vertical-align: top;\n",
       "    }\n",
       "\n",
       "    .dataframe thead th {\n",
       "        text-align: right;\n",
       "    }\n",
       "</style>\n",
       "<table border=\"1\" class=\"dataframe\">\n",
       "  <thead>\n",
       "    <tr style=\"text-align: right;\">\n",
       "      <th></th>\n",
       "      <th>LotArea</th>\n",
       "      <th>CentralAir</th>\n",
       "      <th>FullBath</th>\n",
       "      <th>BedroomAbvGr</th>\n",
       "      <th>GarageCars</th>\n",
       "      <th>SalePrice</th>\n",
       "      <th>Pool</th>\n",
       "      <th>Pavement</th>\n",
       "      <th>Basement</th>\n",
       "      <th>Stories</th>\n",
       "      <th>Area_C</th>\n",
       "      <th>Area_FV</th>\n",
       "      <th>Area_RL</th>\n",
       "      <th>Area_RM</th>\n",
       "      <th>Heating_GasA</th>\n",
       "      <th>Heating_GasW</th>\n",
       "      <th>Heating_Grav</th>\n",
       "      <th>Heating_OthW</th>\n",
       "    </tr>\n",
       "  </thead>\n",
       "  <tbody>\n",
       "    <tr>\n",
       "      <th>0</th>\n",
       "      <td>8450</td>\n",
       "      <td>1</td>\n",
       "      <td>2</td>\n",
       "      <td>3</td>\n",
       "      <td>2</td>\n",
       "      <td>208500</td>\n",
       "      <td>0</td>\n",
       "      <td>1</td>\n",
       "      <td>3</td>\n",
       "      <td>2</td>\n",
       "      <td>0</td>\n",
       "      <td>0</td>\n",
       "      <td>1</td>\n",
       "      <td>0</td>\n",
       "      <td>1</td>\n",
       "      <td>0</td>\n",
       "      <td>0</td>\n",
       "      <td>0</td>\n",
       "    </tr>\n",
       "    <tr>\n",
       "      <th>1</th>\n",
       "      <td>9600</td>\n",
       "      <td>1</td>\n",
       "      <td>2</td>\n",
       "      <td>3</td>\n",
       "      <td>2</td>\n",
       "      <td>181500</td>\n",
       "      <td>0</td>\n",
       "      <td>1</td>\n",
       "      <td>3</td>\n",
       "      <td>1</td>\n",
       "      <td>0</td>\n",
       "      <td>0</td>\n",
       "      <td>1</td>\n",
       "      <td>0</td>\n",
       "      <td>1</td>\n",
       "      <td>0</td>\n",
       "      <td>0</td>\n",
       "      <td>0</td>\n",
       "    </tr>\n",
       "    <tr>\n",
       "      <th>2</th>\n",
       "      <td>11250</td>\n",
       "      <td>1</td>\n",
       "      <td>2</td>\n",
       "      <td>3</td>\n",
       "      <td>2</td>\n",
       "      <td>223500</td>\n",
       "      <td>0</td>\n",
       "      <td>1</td>\n",
       "      <td>3</td>\n",
       "      <td>2</td>\n",
       "      <td>0</td>\n",
       "      <td>0</td>\n",
       "      <td>1</td>\n",
       "      <td>0</td>\n",
       "      <td>1</td>\n",
       "      <td>0</td>\n",
       "      <td>0</td>\n",
       "      <td>0</td>\n",
       "    </tr>\n",
       "    <tr>\n",
       "      <th>3</th>\n",
       "      <td>9550</td>\n",
       "      <td>1</td>\n",
       "      <td>1</td>\n",
       "      <td>3</td>\n",
       "      <td>3</td>\n",
       "      <td>140000</td>\n",
       "      <td>0</td>\n",
       "      <td>1</td>\n",
       "      <td>2</td>\n",
       "      <td>2</td>\n",
       "      <td>0</td>\n",
       "      <td>0</td>\n",
       "      <td>1</td>\n",
       "      <td>0</td>\n",
       "      <td>1</td>\n",
       "      <td>0</td>\n",
       "      <td>0</td>\n",
       "      <td>0</td>\n",
       "    </tr>\n",
       "    <tr>\n",
       "      <th>4</th>\n",
       "      <td>14260</td>\n",
       "      <td>1</td>\n",
       "      <td>2</td>\n",
       "      <td>4</td>\n",
       "      <td>3</td>\n",
       "      <td>250000</td>\n",
       "      <td>0</td>\n",
       "      <td>1</td>\n",
       "      <td>3</td>\n",
       "      <td>2</td>\n",
       "      <td>0</td>\n",
       "      <td>0</td>\n",
       "      <td>1</td>\n",
       "      <td>0</td>\n",
       "      <td>1</td>\n",
       "      <td>0</td>\n",
       "      <td>0</td>\n",
       "      <td>0</td>\n",
       "    </tr>\n",
       "    <tr>\n",
       "      <th>...</th>\n",
       "      <td>...</td>\n",
       "      <td>...</td>\n",
       "      <td>...</td>\n",
       "      <td>...</td>\n",
       "      <td>...</td>\n",
       "      <td>...</td>\n",
       "      <td>...</td>\n",
       "      <td>...</td>\n",
       "      <td>...</td>\n",
       "      <td>...</td>\n",
       "      <td>...</td>\n",
       "      <td>...</td>\n",
       "      <td>...</td>\n",
       "      <td>...</td>\n",
       "      <td>...</td>\n",
       "      <td>...</td>\n",
       "      <td>...</td>\n",
       "      <td>...</td>\n",
       "    </tr>\n",
       "    <tr>\n",
       "      <th>1455</th>\n",
       "      <td>7917</td>\n",
       "      <td>1</td>\n",
       "      <td>2</td>\n",
       "      <td>3</td>\n",
       "      <td>2</td>\n",
       "      <td>175000</td>\n",
       "      <td>0</td>\n",
       "      <td>1</td>\n",
       "      <td>3</td>\n",
       "      <td>2</td>\n",
       "      <td>0</td>\n",
       "      <td>0</td>\n",
       "      <td>1</td>\n",
       "      <td>0</td>\n",
       "      <td>1</td>\n",
       "      <td>0</td>\n",
       "      <td>0</td>\n",
       "      <td>0</td>\n",
       "    </tr>\n",
       "    <tr>\n",
       "      <th>1456</th>\n",
       "      <td>13175</td>\n",
       "      <td>1</td>\n",
       "      <td>2</td>\n",
       "      <td>3</td>\n",
       "      <td>2</td>\n",
       "      <td>210000</td>\n",
       "      <td>0</td>\n",
       "      <td>1</td>\n",
       "      <td>3</td>\n",
       "      <td>1</td>\n",
       "      <td>0</td>\n",
       "      <td>0</td>\n",
       "      <td>1</td>\n",
       "      <td>0</td>\n",
       "      <td>1</td>\n",
       "      <td>0</td>\n",
       "      <td>0</td>\n",
       "      <td>0</td>\n",
       "    </tr>\n",
       "    <tr>\n",
       "      <th>1457</th>\n",
       "      <td>9042</td>\n",
       "      <td>1</td>\n",
       "      <td>2</td>\n",
       "      <td>4</td>\n",
       "      <td>1</td>\n",
       "      <td>266500</td>\n",
       "      <td>0</td>\n",
       "      <td>1</td>\n",
       "      <td>2</td>\n",
       "      <td>2</td>\n",
       "      <td>0</td>\n",
       "      <td>0</td>\n",
       "      <td>1</td>\n",
       "      <td>0</td>\n",
       "      <td>1</td>\n",
       "      <td>0</td>\n",
       "      <td>0</td>\n",
       "      <td>0</td>\n",
       "    </tr>\n",
       "    <tr>\n",
       "      <th>1458</th>\n",
       "      <td>9717</td>\n",
       "      <td>1</td>\n",
       "      <td>1</td>\n",
       "      <td>2</td>\n",
       "      <td>1</td>\n",
       "      <td>142125</td>\n",
       "      <td>0</td>\n",
       "      <td>1</td>\n",
       "      <td>2</td>\n",
       "      <td>1</td>\n",
       "      <td>0</td>\n",
       "      <td>0</td>\n",
       "      <td>1</td>\n",
       "      <td>0</td>\n",
       "      <td>1</td>\n",
       "      <td>0</td>\n",
       "      <td>0</td>\n",
       "      <td>0</td>\n",
       "    </tr>\n",
       "    <tr>\n",
       "      <th>1459</th>\n",
       "      <td>9937</td>\n",
       "      <td>1</td>\n",
       "      <td>1</td>\n",
       "      <td>3</td>\n",
       "      <td>1</td>\n",
       "      <td>147500</td>\n",
       "      <td>0</td>\n",
       "      <td>1</td>\n",
       "      <td>2</td>\n",
       "      <td>1</td>\n",
       "      <td>0</td>\n",
       "      <td>0</td>\n",
       "      <td>1</td>\n",
       "      <td>0</td>\n",
       "      <td>1</td>\n",
       "      <td>0</td>\n",
       "      <td>0</td>\n",
       "      <td>0</td>\n",
       "    </tr>\n",
       "  </tbody>\n",
       "</table>\n",
       "<p>1422 rows × 18 columns</p>\n",
       "</div>"
      ],
      "text/plain": [
       "      LotArea  CentralAir  FullBath  BedroomAbvGr  GarageCars  SalePrice  \\\n",
       "0        8450           1         2             3           2     208500   \n",
       "1        9600           1         2             3           2     181500   \n",
       "2       11250           1         2             3           2     223500   \n",
       "3        9550           1         1             3           3     140000   \n",
       "4       14260           1         2             4           3     250000   \n",
       "...       ...         ...       ...           ...         ...        ...   \n",
       "1455     7917           1         2             3           2     175000   \n",
       "1456    13175           1         2             3           2     210000   \n",
       "1457     9042           1         2             4           1     266500   \n",
       "1458     9717           1         1             2           1     142125   \n",
       "1459     9937           1         1             3           1     147500   \n",
       "\n",
       "      Pool  Pavement  Basement Stories  Area_C  Area_FV  Area_RL  Area_RM  \\\n",
       "0        0         1         3       2       0        0        1        0   \n",
       "1        0         1         3       1       0        0        1        0   \n",
       "2        0         1         3       2       0        0        1        0   \n",
       "3        0         1         2       2       0        0        1        0   \n",
       "4        0         1         3       2       0        0        1        0   \n",
       "...    ...       ...       ...     ...     ...      ...      ...      ...   \n",
       "1455     0         1         3       2       0        0        1        0   \n",
       "1456     0         1         3       1       0        0        1        0   \n",
       "1457     0         1         2       2       0        0        1        0   \n",
       "1458     0         1         2       1       0        0        1        0   \n",
       "1459     0         1         2       1       0        0        1        0   \n",
       "\n",
       "      Heating_GasA  Heating_GasW  Heating_Grav  Heating_OthW  \n",
       "0                1             0             0             0  \n",
       "1                1             0             0             0  \n",
       "2                1             0             0             0  \n",
       "3                1             0             0             0  \n",
       "4                1             0             0             0  \n",
       "...            ...           ...           ...           ...  \n",
       "1455             1             0             0             0  \n",
       "1456             1             0             0             0  \n",
       "1457             1             0             0             0  \n",
       "1458             1             0             0             0  \n",
       "1459             1             0             0             0  \n",
       "\n",
       "[1422 rows x 18 columns]"
      ]
     },
     "execution_count": 97,
     "metadata": {},
     "output_type": "execute_result"
    }
   ],
   "source": [
    "dum_df = pd.get_dummies(encoded, columns=[\"Area\", \"Heating\"], prefix=[\"Area\", \"Heating\"])\n",
    "# merge with main df bridge_df on key values\n",
    "# encoded = encoded.join(dum_df)\n",
    "dum_df"
   ]
  },
  {
   "cell_type": "code",
   "execution_count": 98,
   "metadata": {},
   "outputs": [
    {
     "name": "stdout",
     "output_type": "stream",
     "text": [
      "(1422, 12)\n",
      "(1422, 18)\n"
     ]
    }
   ],
   "source": [
    "print(cleansed.shape)\n",
    "print(dum_df.shape)"
   ]
  },
  {
   "cell_type": "code",
   "execution_count": 99,
   "metadata": {},
   "outputs": [],
   "source": [
    "x = dum_df.drop(['SalePrice'], axis = 1)\n",
    "y = dum_df['SalePrice']"
   ]
  },
  {
   "cell_type": "code",
   "execution_count": 100,
   "metadata": {},
   "outputs": [],
   "source": [
    "for col in list(x):\n",
    "    x[col] = pd.to_numeric(x[col])"
   ]
  },
  {
   "cell_type": "code",
   "execution_count": 102,
   "metadata": {},
   "outputs": [],
   "source": [
    "x.drop(['Area_C'], inplace = True, axis = 1)"
   ]
  },
  {
   "cell_type": "code",
   "execution_count": 104,
   "metadata": {},
   "outputs": [],
   "source": [
    "from sklearn.preprocessing import LabelEncoder\n",
    "from sklearn.preprocessing import OneHotEncoder"
   ]
  },
  {
   "cell_type": "code",
   "execution_count": 105,
   "metadata": {},
   "outputs": [],
   "source": [
    "encoded[\"Area\"] = encoded[\"Area\"].astype(str)"
   ]
  },
  {
   "cell_type": "code",
   "execution_count": 108,
   "metadata": {},
   "outputs": [],
   "source": [
    "le = LabelEncoder()\n",
    "le.fit(encoded[\"Area\"])\n",
    "le_enc = le.transform(encoded[\"Area\"])"
   ]
  },
  {
   "cell_type": "code",
   "execution_count": 109,
   "metadata": {},
   "outputs": [
    {
     "data": {
      "text/plain": [
       "2    1118\n",
       "4     214\n",
       "1      65\n",
       "3      15\n",
       "0      10\n",
       "Name: Area, dtype: int64"
      ]
     },
     "execution_count": 109,
     "metadata": {},
     "output_type": "execute_result"
    }
   ],
   "source": [
    "encoded[\"Area\"].value_counts()"
   ]
  },
  {
   "cell_type": "code",
   "execution_count": 110,
   "metadata": {},
   "outputs": [],
   "source": [
    "le_enc = le_enc.reshape(len(le_enc), 1)"
   ]
  },
  {
   "cell_type": "code",
   "execution_count": 111,
   "metadata": {},
   "outputs": [],
   "source": [
    "ohe = OneHotEncoder(drop='first')\n",
    "ohe.fit(le_enc)\n",
    "encoded[\"Area\"] = ohe.transform(le_enc)"
   ]
  },
  {
   "cell_type": "code",
   "execution_count": 112,
   "metadata": {},
   "outputs": [
    {
     "name": "stdout",
     "output_type": "stream",
     "text": [
      "(1137, 16)\n",
      "(285, 16)\n",
      "(1137,)\n",
      "(285,)\n"
     ]
    }
   ],
   "source": [
    "x_train, x_test, y_train, y_test = tts(x, y, test_size = 0.2, random_state = 42)\n",
    "print(x_train.shape)\n",
    "print(x_test.shape)\n",
    "print(y_train.shape)\n",
    "print(y_test.shape)"
   ]
  },
  {
   "cell_type": "code",
   "execution_count": 113,
   "metadata": {},
   "outputs": [
    {
     "data": {
      "text/plain": [
       "RandomForestRegressor(random_state=23)"
      ]
     },
     "execution_count": 113,
     "metadata": {},
     "output_type": "execute_result"
    }
   ],
   "source": [
    "regressor_rf = RandomForestRegressor(random_state = 23)\n",
    "regressor_rf.fit(x_train, y_train)"
   ]
  },
  {
   "cell_type": "code",
   "execution_count": 114,
   "metadata": {},
   "outputs": [],
   "source": [
    "y_pred_rf = regressor_rf.predict(x_test)"
   ]
  },
  {
   "cell_type": "code",
   "execution_count": 119,
   "metadata": {},
   "outputs": [],
   "source": [
    "pickle.dump(regressor_rf,open('Random_model.pkl','wb'))"
   ]
  },
  {
   "cell_type": "code",
   "execution_count": null,
   "metadata": {},
   "outputs": [],
   "source": []
  }
 ],
 "metadata": {
  "kernelspec": {
   "display_name": "Python 3",
   "language": "python",
   "name": "python3"
  },
  "language_info": {
   "codemirror_mode": {
    "name": "ipython",
    "version": 3
   },
   "file_extension": ".py",
   "mimetype": "text/x-python",
   "name": "python",
   "nbconvert_exporter": "python",
   "pygments_lexer": "ipython3",
   "version": "3.8.5"
  }
 },
 "nbformat": 4,
 "nbformat_minor": 4
}
